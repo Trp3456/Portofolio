{
 "cells": [
  {
   "cell_type": "markdown",
   "id": "2096583b-676f-472a-a654-5f0e0a0aa496",
   "metadata": {},
   "source": [
    "# Import Library"
   ]
  },
  {
   "cell_type": "code",
   "execution_count": 2,
   "id": "0bb2d794-47c0-444c-8ac1-47e2a53605fb",
   "metadata": {
    "tags": []
   },
   "outputs": [],
   "source": [
    "import numpy as np\n",
    "import pandas as pd\n",
    "import matplotlib.pyplot as plt\n",
    "%matplotlib inline\n",
    "import seaborn as sns\n",
    "from datetime import datetime\n",
    "\n",
    "import warnings\n",
    "warnings.filterwarnings('ignore')"
   ]
  },
  {
   "cell_type": "markdown",
   "id": "19b38bed-b019-4b66-90ea-2601843e0141",
   "metadata": {},
   "source": [
    "# Data"
   ]
  },
  {
   "cell_type": "markdown",
   "id": "597672da-5a58-4e9a-a0f8-7d5efe2288a8",
   "metadata": {},
   "source": [
    "## Load Data"
   ]
  },
  {
   "cell_type": "code",
   "execution_count": 5,
   "id": "782f6734-b115-4246-be22-304e52af7fdb",
   "metadata": {
    "tags": []
   },
   "outputs": [
    {
     "data": {
      "text/html": [
       "<div>\n",
       "<style scoped>\n",
       "    .dataframe tbody tr th:only-of-type {\n",
       "        vertical-align: middle;\n",
       "    }\n",
       "\n",
       "    .dataframe tbody tr th {\n",
       "        vertical-align: top;\n",
       "    }\n",
       "\n",
       "    .dataframe thead th {\n",
       "        text-align: right;\n",
       "    }\n",
       "</style>\n",
       "<table border=\"1\" class=\"dataframe\">\n",
       "  <thead>\n",
       "    <tr style=\"text-align: right;\">\n",
       "      <th></th>\n",
       "      <th>Unnamed: 0</th>\n",
       "      <th>X1</th>\n",
       "      <th>date</th>\n",
       "      <th>Flotation Column 01 Air Flow</th>\n",
       "      <th>Flotation Column 02 Air Flow</th>\n",
       "      <th>Flotation Column 03 Air Flow</th>\n",
       "      <th>Flotation Column 04 Air Flow</th>\n",
       "      <th>Flotation Column 05 Air Flow</th>\n",
       "      <th>Flotation Column 06 Air Flow</th>\n",
       "      <th>Flotation Column 07 Air Flow</th>\n",
       "      <th>Flotation Column 01 Level</th>\n",
       "      <th>Flotation Column 02 Level</th>\n",
       "      <th>Flotation Column 03 Level</th>\n",
       "      <th>Flotation Column 04 Level</th>\n",
       "      <th>Flotation Column 05 Level</th>\n",
       "      <th>Flotation Column 06 Level</th>\n",
       "      <th>Flotation Column 07 Level</th>\n",
       "    </tr>\n",
       "  </thead>\n",
       "  <tbody>\n",
       "    <tr>\n",
       "      <th>0</th>\n",
       "      <td>1</td>\n",
       "      <td>0.0</td>\n",
       "      <td>2017-03-10 01:02:00</td>\n",
       "      <td>249.214</td>\n",
       "      <td>253.235</td>\n",
       "      <td>250.576</td>\n",
       "      <td>295.096</td>\n",
       "      <td>306.4</td>\n",
       "      <td>250.225</td>\n",
       "      <td>250.884</td>\n",
       "      <td>457.396</td>\n",
       "      <td>432.962</td>\n",
       "      <td>424.954</td>\n",
       "      <td>443.558</td>\n",
       "      <td>502.255</td>\n",
       "      <td>446.370</td>\n",
       "      <td>523.344</td>\n",
       "    </tr>\n",
       "    <tr>\n",
       "      <th>1</th>\n",
       "      <td>2</td>\n",
       "      <td>1.0</td>\n",
       "      <td>2017-03-10 01:02:20</td>\n",
       "      <td>249.719</td>\n",
       "      <td>250.532</td>\n",
       "      <td>250.862</td>\n",
       "      <td>295.096</td>\n",
       "      <td>306.4</td>\n",
       "      <td>250.137</td>\n",
       "      <td>248.994</td>\n",
       "      <td>451.891</td>\n",
       "      <td>429.560</td>\n",
       "      <td>432.939</td>\n",
       "      <td>448.086</td>\n",
       "      <td>496.363</td>\n",
       "      <td>445.922</td>\n",
       "      <td>498.075</td>\n",
       "    </tr>\n",
       "    <tr>\n",
       "      <th>2</th>\n",
       "      <td>3</td>\n",
       "      <td>2.0</td>\n",
       "      <td>2017-03-10 01:02:40</td>\n",
       "      <td>249.741</td>\n",
       "      <td>247.874</td>\n",
       "      <td>250.313</td>\n",
       "      <td>295.096</td>\n",
       "      <td>306.4</td>\n",
       "      <td>251.345</td>\n",
       "      <td>248.071</td>\n",
       "      <td>451.240</td>\n",
       "      <td>468.927</td>\n",
       "      <td>434.610</td>\n",
       "      <td>449.688</td>\n",
       "      <td>484.411</td>\n",
       "      <td>447.826</td>\n",
       "      <td>458.567</td>\n",
       "    </tr>\n",
       "    <tr>\n",
       "      <th>3</th>\n",
       "      <td>4</td>\n",
       "      <td>3.0</td>\n",
       "      <td>2017-03-10 01:03:00</td>\n",
       "      <td>249.917</td>\n",
       "      <td>254.487</td>\n",
       "      <td>250.049</td>\n",
       "      <td>295.096</td>\n",
       "      <td>306.4</td>\n",
       "      <td>250.422</td>\n",
       "      <td>251.147</td>\n",
       "      <td>452.441</td>\n",
       "      <td>458.165</td>\n",
       "      <td>442.865</td>\n",
       "      <td>446.210</td>\n",
       "      <td>471.411</td>\n",
       "      <td>437.690</td>\n",
       "      <td>427.669</td>\n",
       "    </tr>\n",
       "    <tr>\n",
       "      <th>4</th>\n",
       "      <td>5</td>\n",
       "      <td>4.0</td>\n",
       "      <td>2017-03-10 01:03:20</td>\n",
       "      <td>250.203</td>\n",
       "      <td>252.136</td>\n",
       "      <td>249.895</td>\n",
       "      <td>295.096</td>\n",
       "      <td>306.4</td>\n",
       "      <td>249.983</td>\n",
       "      <td>248.928</td>\n",
       "      <td>452.441</td>\n",
       "      <td>452.900</td>\n",
       "      <td>450.523</td>\n",
       "      <td>453.670</td>\n",
       "      <td>462.598</td>\n",
       "      <td>443.682</td>\n",
       "      <td>425.679</td>\n",
       "    </tr>\n",
       "  </tbody>\n",
       "</table>\n",
       "</div>"
      ],
      "text/plain": [
       "   Unnamed: 0   X1                 date  Flotation Column 01 Air Flow  \\\n",
       "0           1  0.0  2017-03-10 01:02:00                       249.214   \n",
       "1           2  1.0  2017-03-10 01:02:20                       249.719   \n",
       "2           3  2.0  2017-03-10 01:02:40                       249.741   \n",
       "3           4  3.0  2017-03-10 01:03:00                       249.917   \n",
       "4           5  4.0  2017-03-10 01:03:20                       250.203   \n",
       "\n",
       "   Flotation Column 02 Air Flow  Flotation Column 03 Air Flow  \\\n",
       "0                       253.235                       250.576   \n",
       "1                       250.532                       250.862   \n",
       "2                       247.874                       250.313   \n",
       "3                       254.487                       250.049   \n",
       "4                       252.136                       249.895   \n",
       "\n",
       "   Flotation Column 04 Air Flow  Flotation Column 05 Air Flow  \\\n",
       "0                       295.096                         306.4   \n",
       "1                       295.096                         306.4   \n",
       "2                       295.096                         306.4   \n",
       "3                       295.096                         306.4   \n",
       "4                       295.096                         306.4   \n",
       "\n",
       "   Flotation Column 06 Air Flow  Flotation Column 07 Air Flow  \\\n",
       "0                       250.225                       250.884   \n",
       "1                       250.137                       248.994   \n",
       "2                       251.345                       248.071   \n",
       "3                       250.422                       251.147   \n",
       "4                       249.983                       248.928   \n",
       "\n",
       "   Flotation Column 01 Level  Flotation Column 02 Level  \\\n",
       "0                    457.396                    432.962   \n",
       "1                    451.891                    429.560   \n",
       "2                    451.240                    468.927   \n",
       "3                    452.441                    458.165   \n",
       "4                    452.441                    452.900   \n",
       "\n",
       "   Flotation Column 03 Level  Flotation Column 04 Level  \\\n",
       "0                    424.954                    443.558   \n",
       "1                    432.939                    448.086   \n",
       "2                    434.610                    449.688   \n",
       "3                    442.865                    446.210   \n",
       "4                    450.523                    453.670   \n",
       "\n",
       "   Flotation Column 05 Level  Flotation Column 06 Level  \\\n",
       "0                    502.255                    446.370   \n",
       "1                    496.363                    445.922   \n",
       "2                    484.411                    447.826   \n",
       "3                    471.411                    437.690   \n",
       "4                    462.598                    443.682   \n",
       "\n",
       "   Flotation Column 07 Level  \n",
       "0                    523.344  \n",
       "1                    498.075  \n",
       "2                    458.567  \n",
       "3                    427.669  \n",
       "4                    425.679  "
      ]
     },
     "execution_count": 5,
     "metadata": {},
     "output_type": "execute_result"
    }
   ],
   "source": [
    "df_op = pd.read_csv('flotation.csv')\n",
    "df_op.head()"
   ]
  },
  {
   "cell_type": "code",
   "execution_count": 6,
   "id": "dd753178-167a-49fd-9c7b-6b4245be0da1",
   "metadata": {
    "tags": []
   },
   "outputs": [
    {
     "name": "stdout",
     "output_type": "stream",
     "text": [
      "<class 'pandas.core.frame.DataFrame'>\n",
      "RangeIndex: 589962 entries, 0 to 589961\n",
      "Data columns (total 17 columns):\n",
      " #   Column                        Non-Null Count   Dtype  \n",
      "---  ------                        --------------   -----  \n",
      " 0   Unnamed: 0                    589962 non-null  int64  \n",
      " 1   X1                            589962 non-null  float64\n",
      " 2   date                          589962 non-null  object \n",
      " 3   Flotation Column 01 Air Flow  589962 non-null  float64\n",
      " 4   Flotation Column 02 Air Flow  589962 non-null  float64\n",
      " 5   Flotation Column 03 Air Flow  589962 non-null  float64\n",
      " 6   Flotation Column 04 Air Flow  589962 non-null  float64\n",
      " 7   Flotation Column 05 Air Flow  589962 non-null  float64\n",
      " 8   Flotation Column 06 Air Flow  589962 non-null  float64\n",
      " 9   Flotation Column 07 Air Flow  589962 non-null  float64\n",
      " 10  Flotation Column 01 Level     589962 non-null  float64\n",
      " 11  Flotation Column 02 Level     589962 non-null  float64\n",
      " 12  Flotation Column 03 Level     589962 non-null  float64\n",
      " 13  Flotation Column 04 Level     589962 non-null  float64\n",
      " 14  Flotation Column 05 Level     589962 non-null  float64\n",
      " 15  Flotation Column 06 Level     589962 non-null  float64\n",
      " 16  Flotation Column 07 Level     589962 non-null  float64\n",
      "dtypes: float64(15), int64(1), object(1)\n",
      "memory usage: 76.5+ MB\n"
     ]
    }
   ],
   "source": [
    "df_op.info()"
   ]
  },
  {
   "cell_type": "code",
   "execution_count": 7,
   "id": "595d78f4-c32a-49aa-a94f-51fba2ace8cb",
   "metadata": {
    "tags": []
   },
   "outputs": [
    {
     "data": {
      "text/html": [
       "<div>\n",
       "<style scoped>\n",
       "    .dataframe tbody tr th:only-of-type {\n",
       "        vertical-align: middle;\n",
       "    }\n",
       "\n",
       "    .dataframe tbody tr th {\n",
       "        vertical-align: top;\n",
       "    }\n",
       "\n",
       "    .dataframe thead th {\n",
       "        text-align: right;\n",
       "    }\n",
       "</style>\n",
       "<table border=\"1\" class=\"dataframe\">\n",
       "  <thead>\n",
       "    <tr style=\"text-align: right;\">\n",
       "      <th></th>\n",
       "      <th>Unnamed: 0</th>\n",
       "      <th>X1</th>\n",
       "      <th>date</th>\n",
       "      <th>% Iron Feed</th>\n",
       "      <th>% Silica Feed</th>\n",
       "      <th>Starch Flow</th>\n",
       "      <th>Amina Flow</th>\n",
       "      <th>Ore Pulp Flow</th>\n",
       "      <th>Ore Pulp pH</th>\n",
       "      <th>Ore Pulp Density</th>\n",
       "      <th>% Iron Concentrate</th>\n",
       "      <th>% Silica Concentrate</th>\n",
       "    </tr>\n",
       "  </thead>\n",
       "  <tbody>\n",
       "    <tr>\n",
       "      <th>0</th>\n",
       "      <td>1</td>\n",
       "      <td>0.0</td>\n",
       "      <td>2017-03-10 01:02:00</td>\n",
       "      <td>55.2</td>\n",
       "      <td>16.98</td>\n",
       "      <td>3019.53</td>\n",
       "      <td>557.434</td>\n",
       "      <td>395.713</td>\n",
       "      <td>10.0664</td>\n",
       "      <td>1.74</td>\n",
       "      <td>66.493242</td>\n",
       "      <td>1.31</td>\n",
       "    </tr>\n",
       "    <tr>\n",
       "      <th>1</th>\n",
       "      <td>2</td>\n",
       "      <td>1.0</td>\n",
       "      <td>2017-03-10 01:02:20</td>\n",
       "      <td>55.2</td>\n",
       "      <td>16.98</td>\n",
       "      <td>3024.41</td>\n",
       "      <td>563.965</td>\n",
       "      <td>397.383</td>\n",
       "      <td>10.0672</td>\n",
       "      <td>1.74</td>\n",
       "      <td>66.853733</td>\n",
       "      <td>1.31</td>\n",
       "    </tr>\n",
       "    <tr>\n",
       "      <th>2</th>\n",
       "      <td>3</td>\n",
       "      <td>2.0</td>\n",
       "      <td>2017-03-10 01:02:40</td>\n",
       "      <td>55.2</td>\n",
       "      <td>16.98</td>\n",
       "      <td>3043.46</td>\n",
       "      <td>568.054</td>\n",
       "      <td>399.668</td>\n",
       "      <td>10.0680</td>\n",
       "      <td>1.74</td>\n",
       "      <td>64.773804</td>\n",
       "      <td>1.31</td>\n",
       "    </tr>\n",
       "    <tr>\n",
       "      <th>3</th>\n",
       "      <td>4</td>\n",
       "      <td>3.0</td>\n",
       "      <td>2017-03-10 01:03:00</td>\n",
       "      <td>55.2</td>\n",
       "      <td>16.98</td>\n",
       "      <td>3047.36</td>\n",
       "      <td>568.665</td>\n",
       "      <td>397.939</td>\n",
       "      <td>10.0689</td>\n",
       "      <td>1.74</td>\n",
       "      <td>68.550271</td>\n",
       "      <td>1.31</td>\n",
       "    </tr>\n",
       "    <tr>\n",
       "      <th>4</th>\n",
       "      <td>5</td>\n",
       "      <td>4.0</td>\n",
       "      <td>2017-03-10 01:03:20</td>\n",
       "      <td>55.2</td>\n",
       "      <td>16.98</td>\n",
       "      <td>3033.69</td>\n",
       "      <td>558.167</td>\n",
       "      <td>400.254</td>\n",
       "      <td>10.0697</td>\n",
       "      <td>1.74</td>\n",
       "      <td>65.116564</td>\n",
       "      <td>1.31</td>\n",
       "    </tr>\n",
       "  </tbody>\n",
       "</table>\n",
       "</div>"
      ],
      "text/plain": [
       "   Unnamed: 0   X1                 date  % Iron Feed  % Silica Feed  \\\n",
       "0           1  0.0  2017-03-10 01:02:00         55.2          16.98   \n",
       "1           2  1.0  2017-03-10 01:02:20         55.2          16.98   \n",
       "2           3  2.0  2017-03-10 01:02:40         55.2          16.98   \n",
       "3           4  3.0  2017-03-10 01:03:00         55.2          16.98   \n",
       "4           5  4.0  2017-03-10 01:03:20         55.2          16.98   \n",
       "\n",
       "   Starch Flow  Amina Flow  Ore Pulp Flow  Ore Pulp pH  Ore Pulp Density  \\\n",
       "0      3019.53     557.434        395.713      10.0664              1.74   \n",
       "1      3024.41     563.965        397.383      10.0672              1.74   \n",
       "2      3043.46     568.054        399.668      10.0680              1.74   \n",
       "3      3047.36     568.665        397.939      10.0689              1.74   \n",
       "4      3033.69     558.167        400.254      10.0697              1.74   \n",
       "\n",
       "   % Iron Concentrate  % Silica Concentrate  \n",
       "0           66.493242                  1.31  \n",
       "1           66.853733                  1.31  \n",
       "2           64.773804                  1.31  \n",
       "3           68.550271                  1.31  \n",
       "4           65.116564                  1.31  "
      ]
     },
     "execution_count": 7,
     "metadata": {},
     "output_type": "execute_result"
    }
   ],
   "source": [
    "df_feed = pd.read_csv('feed.csv')\n",
    "df_feed.head()"
   ]
  },
  {
   "cell_type": "code",
   "execution_count": 8,
   "id": "1225e38a-ea37-4546-83ae-d92599b7385b",
   "metadata": {
    "tags": []
   },
   "outputs": [
    {
     "name": "stdout",
     "output_type": "stream",
     "text": [
      "<class 'pandas.core.frame.DataFrame'>\n",
      "RangeIndex: 589962 entries, 0 to 589961\n",
      "Data columns (total 12 columns):\n",
      " #   Column                Non-Null Count   Dtype  \n",
      "---  ------                --------------   -----  \n",
      " 0   Unnamed: 0            589962 non-null  int64  \n",
      " 1   X1                    589962 non-null  float64\n",
      " 2   date                  589962 non-null  object \n",
      " 3   % Iron Feed           589962 non-null  float64\n",
      " 4   % Silica Feed         589962 non-null  float64\n",
      " 5   Starch Flow           589962 non-null  float64\n",
      " 6   Amina Flow            589962 non-null  float64\n",
      " 7   Ore Pulp Flow         589962 non-null  float64\n",
      " 8   Ore Pulp pH           589962 non-null  float64\n",
      " 9   Ore Pulp Density      589962 non-null  float64\n",
      " 10  % Iron Concentrate    589962 non-null  float64\n",
      " 11  % Silica Concentrate  589962 non-null  float64\n",
      "dtypes: float64(10), int64(1), object(1)\n",
      "memory usage: 54.0+ MB\n"
     ]
    }
   ],
   "source": [
    "df_feed.info()"
   ]
  },
  {
   "cell_type": "markdown",
   "id": "e3543767-b543-4510-b221-324e8bb5afb2",
   "metadata": {
    "tags": []
   },
   "source": [
    "## Check Missing Data"
   ]
  },
  {
   "cell_type": "code",
   "execution_count": 10,
   "id": "6e75c526-82d2-486d-8874-2c633b7f641a",
   "metadata": {
    "tags": []
   },
   "outputs": [
    {
     "data": {
      "text/plain": [
       "Unnamed: 0                      0\n",
       "X1                              0\n",
       "date                            0\n",
       "Flotation Column 01 Air Flow    0\n",
       "Flotation Column 02 Air Flow    0\n",
       "Flotation Column 03 Air Flow    0\n",
       "Flotation Column 04 Air Flow    0\n",
       "Flotation Column 05 Air Flow    0\n",
       "Flotation Column 06 Air Flow    0\n",
       "Flotation Column 07 Air Flow    0\n",
       "Flotation Column 01 Level       0\n",
       "Flotation Column 02 Level       0\n",
       "Flotation Column 03 Level       0\n",
       "Flotation Column 04 Level       0\n",
       "Flotation Column 05 Level       0\n",
       "Flotation Column 06 Level       0\n",
       "Flotation Column 07 Level       0\n",
       "dtype: int64"
      ]
     },
     "execution_count": 10,
     "metadata": {},
     "output_type": "execute_result"
    }
   ],
   "source": [
    "df_op.isnull().sum()"
   ]
  },
  {
   "cell_type": "code",
   "execution_count": 11,
   "id": "8b21bb19-dcff-420f-9ea2-95256250c32f",
   "metadata": {
    "tags": []
   },
   "outputs": [
    {
     "data": {
      "text/plain": [
       "Unnamed: 0              0\n",
       "X1                      0\n",
       "date                    0\n",
       "% Iron Feed             0\n",
       "% Silica Feed           0\n",
       "Starch Flow             0\n",
       "Amina Flow              0\n",
       "Ore Pulp Flow           0\n",
       "Ore Pulp pH             0\n",
       "Ore Pulp Density        0\n",
       "% Iron Concentrate      0\n",
       "% Silica Concentrate    0\n",
       "dtype: int64"
      ]
     },
     "execution_count": 11,
     "metadata": {},
     "output_type": "execute_result"
    }
   ],
   "source": [
    "df_feed.isnull().sum()"
   ]
  },
  {
   "cell_type": "markdown",
   "id": "8b4d7bff-9f05-4042-be10-bda997179f68",
   "metadata": {},
   "source": [
    "## Join and Cleaning Data"
   ]
  },
  {
   "cell_type": "markdown",
   "id": "43439316-b86d-4cd7-b211-76770322437a",
   "metadata": {
    "tags": []
   },
   "source": [
    "__Unamed: 0 and X1 in both operation and feed data is basically index, so we can drop it__"
   ]
  },
  {
   "cell_type": "code",
   "execution_count": 14,
   "id": "e998f974-7ca3-448b-ab2f-e4ccc00a3558",
   "metadata": {
    "tags": []
   },
   "outputs": [],
   "source": [
    "df_op = df_op.drop(['Unnamed: 0', 'X1'], axis=1)"
   ]
  },
  {
   "cell_type": "code",
   "execution_count": 15,
   "id": "f23171ba-501a-41e3-ab20-5a1e384d2882",
   "metadata": {
    "tags": []
   },
   "outputs": [],
   "source": [
    "df_feed = df_feed.drop(['Unnamed: 0', 'X1'], axis=1)"
   ]
  },
  {
   "cell_type": "markdown",
   "id": "57b0b335-5969-44dd-ba99-64a80a7e978a",
   "metadata": {},
   "source": [
    "__Join operation and feed data based on date column__"
   ]
  },
  {
   "cell_type": "code",
   "execution_count": 17,
   "id": "cd4f757a-32b2-4b01-874b-b168ef93ea60",
   "metadata": {
    "tags": []
   },
   "outputs": [
    {
     "data": {
      "text/html": [
       "<div>\n",
       "<style scoped>\n",
       "    .dataframe tbody tr th:only-of-type {\n",
       "        vertical-align: middle;\n",
       "    }\n",
       "\n",
       "    .dataframe tbody tr th {\n",
       "        vertical-align: top;\n",
       "    }\n",
       "\n",
       "    .dataframe thead th {\n",
       "        text-align: right;\n",
       "    }\n",
       "</style>\n",
       "<table border=\"1\" class=\"dataframe\">\n",
       "  <thead>\n",
       "    <tr style=\"text-align: right;\">\n",
       "      <th></th>\n",
       "      <th>date</th>\n",
       "      <th>Flotation Column 01 Air Flow</th>\n",
       "      <th>Flotation Column 02 Air Flow</th>\n",
       "      <th>Flotation Column 03 Air Flow</th>\n",
       "      <th>Flotation Column 04 Air Flow</th>\n",
       "      <th>Flotation Column 05 Air Flow</th>\n",
       "      <th>Flotation Column 06 Air Flow</th>\n",
       "      <th>Flotation Column 07 Air Flow</th>\n",
       "      <th>Flotation Column 01 Level</th>\n",
       "      <th>Flotation Column 02 Level</th>\n",
       "      <th>...</th>\n",
       "      <th>Flotation Column 07 Level</th>\n",
       "      <th>% Iron Feed</th>\n",
       "      <th>% Silica Feed</th>\n",
       "      <th>Starch Flow</th>\n",
       "      <th>Amina Flow</th>\n",
       "      <th>Ore Pulp Flow</th>\n",
       "      <th>Ore Pulp pH</th>\n",
       "      <th>Ore Pulp Density</th>\n",
       "      <th>% Iron Concentrate</th>\n",
       "      <th>% Silica Concentrate</th>\n",
       "    </tr>\n",
       "  </thead>\n",
       "  <tbody>\n",
       "    <tr>\n",
       "      <th>0</th>\n",
       "      <td>2017-03-10 01:02:00</td>\n",
       "      <td>249.214</td>\n",
       "      <td>253.235</td>\n",
       "      <td>250.576</td>\n",
       "      <td>295.096</td>\n",
       "      <td>306.4</td>\n",
       "      <td>250.225</td>\n",
       "      <td>250.884</td>\n",
       "      <td>457.396</td>\n",
       "      <td>432.962</td>\n",
       "      <td>...</td>\n",
       "      <td>523.344</td>\n",
       "      <td>55.2</td>\n",
       "      <td>16.98</td>\n",
       "      <td>3019.53</td>\n",
       "      <td>557.434</td>\n",
       "      <td>395.713</td>\n",
       "      <td>10.0664</td>\n",
       "      <td>1.74</td>\n",
       "      <td>66.493242</td>\n",
       "      <td>1.31</td>\n",
       "    </tr>\n",
       "    <tr>\n",
       "      <th>1</th>\n",
       "      <td>2017-03-10 01:02:20</td>\n",
       "      <td>249.719</td>\n",
       "      <td>250.532</td>\n",
       "      <td>250.862</td>\n",
       "      <td>295.096</td>\n",
       "      <td>306.4</td>\n",
       "      <td>250.137</td>\n",
       "      <td>248.994</td>\n",
       "      <td>451.891</td>\n",
       "      <td>429.560</td>\n",
       "      <td>...</td>\n",
       "      <td>498.075</td>\n",
       "      <td>55.2</td>\n",
       "      <td>16.98</td>\n",
       "      <td>3024.41</td>\n",
       "      <td>563.965</td>\n",
       "      <td>397.383</td>\n",
       "      <td>10.0672</td>\n",
       "      <td>1.74</td>\n",
       "      <td>66.853733</td>\n",
       "      <td>1.31</td>\n",
       "    </tr>\n",
       "    <tr>\n",
       "      <th>2</th>\n",
       "      <td>2017-03-10 01:02:40</td>\n",
       "      <td>249.741</td>\n",
       "      <td>247.874</td>\n",
       "      <td>250.313</td>\n",
       "      <td>295.096</td>\n",
       "      <td>306.4</td>\n",
       "      <td>251.345</td>\n",
       "      <td>248.071</td>\n",
       "      <td>451.240</td>\n",
       "      <td>468.927</td>\n",
       "      <td>...</td>\n",
       "      <td>458.567</td>\n",
       "      <td>55.2</td>\n",
       "      <td>16.98</td>\n",
       "      <td>3043.46</td>\n",
       "      <td>568.054</td>\n",
       "      <td>399.668</td>\n",
       "      <td>10.0680</td>\n",
       "      <td>1.74</td>\n",
       "      <td>64.773804</td>\n",
       "      <td>1.31</td>\n",
       "    </tr>\n",
       "    <tr>\n",
       "      <th>3</th>\n",
       "      <td>2017-03-10 01:03:00</td>\n",
       "      <td>249.917</td>\n",
       "      <td>254.487</td>\n",
       "      <td>250.049</td>\n",
       "      <td>295.096</td>\n",
       "      <td>306.4</td>\n",
       "      <td>250.422</td>\n",
       "      <td>251.147</td>\n",
       "      <td>452.441</td>\n",
       "      <td>458.165</td>\n",
       "      <td>...</td>\n",
       "      <td>427.669</td>\n",
       "      <td>55.2</td>\n",
       "      <td>16.98</td>\n",
       "      <td>3047.36</td>\n",
       "      <td>568.665</td>\n",
       "      <td>397.939</td>\n",
       "      <td>10.0689</td>\n",
       "      <td>1.74</td>\n",
       "      <td>68.550271</td>\n",
       "      <td>1.31</td>\n",
       "    </tr>\n",
       "    <tr>\n",
       "      <th>4</th>\n",
       "      <td>2017-03-10 01:03:20</td>\n",
       "      <td>250.203</td>\n",
       "      <td>252.136</td>\n",
       "      <td>249.895</td>\n",
       "      <td>295.096</td>\n",
       "      <td>306.4</td>\n",
       "      <td>249.983</td>\n",
       "      <td>248.928</td>\n",
       "      <td>452.441</td>\n",
       "      <td>452.900</td>\n",
       "      <td>...</td>\n",
       "      <td>425.679</td>\n",
       "      <td>55.2</td>\n",
       "      <td>16.98</td>\n",
       "      <td>3033.69</td>\n",
       "      <td>558.167</td>\n",
       "      <td>400.254</td>\n",
       "      <td>10.0697</td>\n",
       "      <td>1.74</td>\n",
       "      <td>65.116564</td>\n",
       "      <td>1.31</td>\n",
       "    </tr>\n",
       "  </tbody>\n",
       "</table>\n",
       "<p>5 rows × 24 columns</p>\n",
       "</div>"
      ],
      "text/plain": [
       "                  date  Flotation Column 01 Air Flow  \\\n",
       "0  2017-03-10 01:02:00                       249.214   \n",
       "1  2017-03-10 01:02:20                       249.719   \n",
       "2  2017-03-10 01:02:40                       249.741   \n",
       "3  2017-03-10 01:03:00                       249.917   \n",
       "4  2017-03-10 01:03:20                       250.203   \n",
       "\n",
       "   Flotation Column 02 Air Flow  Flotation Column 03 Air Flow  \\\n",
       "0                       253.235                       250.576   \n",
       "1                       250.532                       250.862   \n",
       "2                       247.874                       250.313   \n",
       "3                       254.487                       250.049   \n",
       "4                       252.136                       249.895   \n",
       "\n",
       "   Flotation Column 04 Air Flow  Flotation Column 05 Air Flow  \\\n",
       "0                       295.096                         306.4   \n",
       "1                       295.096                         306.4   \n",
       "2                       295.096                         306.4   \n",
       "3                       295.096                         306.4   \n",
       "4                       295.096                         306.4   \n",
       "\n",
       "   Flotation Column 06 Air Flow  Flotation Column 07 Air Flow  \\\n",
       "0                       250.225                       250.884   \n",
       "1                       250.137                       248.994   \n",
       "2                       251.345                       248.071   \n",
       "3                       250.422                       251.147   \n",
       "4                       249.983                       248.928   \n",
       "\n",
       "   Flotation Column 01 Level  Flotation Column 02 Level  ...  \\\n",
       "0                    457.396                    432.962  ...   \n",
       "1                    451.891                    429.560  ...   \n",
       "2                    451.240                    468.927  ...   \n",
       "3                    452.441                    458.165  ...   \n",
       "4                    452.441                    452.900  ...   \n",
       "\n",
       "   Flotation Column 07 Level  % Iron Feed  % Silica Feed  Starch Flow  \\\n",
       "0                    523.344         55.2          16.98      3019.53   \n",
       "1                    498.075         55.2          16.98      3024.41   \n",
       "2                    458.567         55.2          16.98      3043.46   \n",
       "3                    427.669         55.2          16.98      3047.36   \n",
       "4                    425.679         55.2          16.98      3033.69   \n",
       "\n",
       "   Amina Flow  Ore Pulp Flow  Ore Pulp pH  Ore Pulp Density  \\\n",
       "0     557.434        395.713      10.0664              1.74   \n",
       "1     563.965        397.383      10.0672              1.74   \n",
       "2     568.054        399.668      10.0680              1.74   \n",
       "3     568.665        397.939      10.0689              1.74   \n",
       "4     558.167        400.254      10.0697              1.74   \n",
       "\n",
       "   % Iron Concentrate  % Silica Concentrate  \n",
       "0           66.493242                  1.31  \n",
       "1           66.853733                  1.31  \n",
       "2           64.773804                  1.31  \n",
       "3           68.550271                  1.31  \n",
       "4           65.116564                  1.31  \n",
       "\n",
       "[5 rows x 24 columns]"
      ]
     },
     "execution_count": 17,
     "metadata": {},
     "output_type": "execute_result"
    }
   ],
   "source": [
    "df = pd.merge(df_op, df_feed, how='left', on='date')\n",
    "df.head()"
   ]
  },
  {
   "cell_type": "markdown",
   "id": "7951d83a-459f-4445-accb-c06c9ccf4f51",
   "metadata": {},
   "source": [
    "__Change date dtype to datetime__"
   ]
  },
  {
   "cell_type": "code",
   "execution_count": 19,
   "id": "b1b4e16b-fc23-4f0d-9ce8-5df666c1964c",
   "metadata": {
    "tags": []
   },
   "outputs": [],
   "source": [
    "df['date']= pd.to_datetime(df['date'], format=\"mixed\")"
   ]
  },
  {
   "cell_type": "markdown",
   "id": "2778ceca-cfe3-4e9d-ae15-4f54d8cda318",
   "metadata": {},
   "source": [
    "__Change columns name for easier operation later__"
   ]
  },
  {
   "cell_type": "code",
   "execution_count": 21,
   "id": "594f53c2-78ac-415f-9b91-4c396a880653",
   "metadata": {
    "tags": []
   },
   "outputs": [],
   "source": [
    "df = df.rename(columns={'Flotation Column 01 Air Flow':'fc1_air_flow',\n",
    "                   'Flotation Column 02 Air Flow':'fc2_air_flow',\n",
    "                   'Flotation Column 03 Air Flow':'fc3_air_flow',\n",
    "                   'Flotation Column 04 Air Flow':'fc4_air_flow',\n",
    "                   'Flotation Column 05 Air Flow':'fc5_air_flow',\n",
    "                   'Flotation Column 06 Air Flow':'fc6_air_flow',\n",
    "                   'Flotation Column 07 Air Flow':'fc7_air_flow',\n",
    "                   'Flotation Column 01 Level':'fc1_level',\n",
    "                   'Flotation Column 02 Level':'fc2_level',\n",
    "                   'Flotation Column 03 Level':'fc3_level',\n",
    "                   'Flotation Column 04 Level':'fc4_level',\n",
    "                   'Flotation Column 05 Level':'fc5_level',\n",
    "                   'Flotation Column 06 Level':'fc6_level',\n",
    "                   'Flotation Column 07 Level':'fc7_level',\n",
    "                   '% Iron Feed':'iron_feed',\n",
    "                   '% Silica Feed':'silica_feed',\n",
    "                   'Starch Flow':'starch_flow',\n",
    "                   'Amina Flow':'amina_flow',\n",
    "                   'Ore Pulp Flow':'pulp_flow',\n",
    "                   'Ore Pulp pH':'pH',\n",
    "                   'Ore Pulp Density':'pulp_density',\n",
    "                   '% Iron Concentrate':'iron_concentrate',\n",
    "                   '% Silica Concentrate':'silica_concentrate'})"
   ]
  },
  {
   "cell_type": "code",
   "execution_count": 22,
   "id": "4d2360ba-2fab-41be-8232-49305a90ac88",
   "metadata": {
    "tags": []
   },
   "outputs": [
    {
     "data": {
      "text/plain": [
       "Index(['date', 'fc1_air_flow', 'fc2_air_flow', 'fc3_air_flow', 'fc4_air_flow',\n",
       "       'fc5_air_flow', 'fc6_air_flow', 'fc7_air_flow', 'fc1_level',\n",
       "       'fc2_level', 'fc3_level', 'fc4_level', 'fc5_level', 'fc6_level',\n",
       "       'fc7_level', 'iron_feed', 'silica_feed', 'starch_flow', 'amina_flow',\n",
       "       'pulp_flow', 'pH', 'pulp_density', 'iron_concentrate',\n",
       "       'silica_concentrate'],\n",
       "      dtype='object')"
      ]
     },
     "execution_count": 22,
     "metadata": {},
     "output_type": "execute_result"
    }
   ],
   "source": [
    "df.columns"
   ]
  },
  {
   "cell_type": "code",
   "execution_count": 23,
   "id": "f48bdb78-bd25-49c7-a51b-9917de9ec09f",
   "metadata": {
    "tags": []
   },
   "outputs": [
    {
     "data": {
      "text/plain": [
       "date                  0\n",
       "fc1_air_flow          0\n",
       "fc2_air_flow          0\n",
       "fc3_air_flow          0\n",
       "fc4_air_flow          0\n",
       "fc5_air_flow          0\n",
       "fc6_air_flow          0\n",
       "fc7_air_flow          0\n",
       "fc1_level             0\n",
       "fc2_level             0\n",
       "fc3_level             0\n",
       "fc4_level             0\n",
       "fc5_level             0\n",
       "fc6_level             0\n",
       "fc7_level             0\n",
       "iron_feed             0\n",
       "silica_feed           0\n",
       "starch_flow           0\n",
       "amina_flow            0\n",
       "pulp_flow             0\n",
       "pH                    0\n",
       "pulp_density          0\n",
       "iron_concentrate      0\n",
       "silica_concentrate    0\n",
       "dtype: int64"
      ]
     },
     "execution_count": 23,
     "metadata": {},
     "output_type": "execute_result"
    }
   ],
   "source": [
    "df[df.duplicated()].count()"
   ]
  },
  {
   "cell_type": "markdown",
   "id": "50ec2c9c-7c60-4022-8c91-6192c8101870",
   "metadata": {},
   "source": [
    "### Apply Constrain\n",
    "\n",
    "- Minimum sum of airflow for all columns = 1490\n",
    "- Min starch and Amina flow combined = 1000\n",
    "- %age starch Increase in 1 hour = +(-) 5%\n",
    "- %age Amina increase in 1 hour = +(-) 5%\n",
    "- %age pH change = +(-) 5%\n",
    "- Airflow bound   (220,350)\n",
    "- Level Bound     (150,750)\n",
    "- Amina Bound     (250,700)\n",
    "- Pulp Flow bound (370,415)\n",
    "- pH bound        (8.75,10.8)\n",
    "- Density Bound   (1.5,1.85)"
   ]
  },
  {
   "cell_type": "markdown",
   "id": "6c7d6e52-77b0-47c8-acce-ae02d0058222",
   "metadata": {},
   "source": [
    "__Total Air Flow => 1490__"
   ]
  },
  {
   "cell_type": "code",
   "execution_count": 26,
   "id": "f49d7f37-d1bf-45e2-a134-a49e1dae5faf",
   "metadata": {
    "tags": []
   },
   "outputs": [],
   "source": [
    "df['total_air_flow']=df['fc1_air_flow']+ df['fc2_air_flow']+ df['fc3_air_flow']+ df['fc4_air_flow']+df['fc5_air_flow']+ df['fc6_air_flow']+df['fc7_air_flow']"
   ]
  },
  {
   "cell_type": "code",
   "execution_count": 27,
   "id": "1ec0fcf5-b129-48cf-b010-e9df2570521e",
   "metadata": {
    "tags": []
   },
   "outputs": [],
   "source": [
    "df = df[df['total_air_flow']>=1490]"
   ]
  },
  {
   "cell_type": "code",
   "execution_count": 28,
   "id": "20f5b7fb-8963-448a-b3b0-51d0a3735de3",
   "metadata": {
    "tags": []
   },
   "outputs": [],
   "source": [
    "df = df.drop('total_air_flow', axis=1)"
   ]
  },
  {
   "cell_type": "markdown",
   "id": "76354d25-928a-470e-8f65-c719fd9ce990",
   "metadata": {},
   "source": [
    "__Min starch and Amina flow combined = 1000__"
   ]
  },
  {
   "cell_type": "code",
   "execution_count": 30,
   "id": "29159832-6a00-4231-b2ef-92ed644a46b0",
   "metadata": {
    "tags": []
   },
   "outputs": [],
   "source": [
    "df['starch_amina_flow']= df['starch_flow']+ df['amina_flow']"
   ]
  },
  {
   "cell_type": "code",
   "execution_count": 31,
   "id": "e313226c-571b-42fe-aaa7-5e3551de9a15",
   "metadata": {
    "tags": []
   },
   "outputs": [],
   "source": [
    "df = df[df['starch_amina_flow']>=1000]"
   ]
  },
  {
   "cell_type": "code",
   "execution_count": 32,
   "id": "e21f6440-a8f9-4bc4-9170-cac4ee3752dc",
   "metadata": {
    "tags": []
   },
   "outputs": [],
   "source": [
    "df = df.drop('starch_amina_flow', axis=1)"
   ]
  },
  {
   "cell_type": "markdown",
   "id": "1c5a1546-6c7a-4d18-b81b-fd63f1673ebb",
   "metadata": {},
   "source": [
    "__%age pH change = +(-) 5%__"
   ]
  },
  {
   "cell_type": "code",
   "execution_count": 34,
   "id": "bda01295-2c00-4ead-840f-1e2c8eb689a3",
   "metadata": {
    "tags": []
   },
   "outputs": [],
   "source": [
    "# make percentage change from before\n",
    "df['pH_change']=abs(100*df['pH'].pct_change())\n",
    "df['pH_change'] = df['pH_change'].fillna(0)"
   ]
  },
  {
   "cell_type": "code",
   "execution_count": 35,
   "id": "46d52ed9-d07a-440e-b1d0-793cc1b3710d",
   "metadata": {
    "tags": []
   },
   "outputs": [],
   "source": [
    "df = df[df['pH_change']<5]"
   ]
  },
  {
   "cell_type": "code",
   "execution_count": 36,
   "id": "9ffe751b-01c3-426f-a724-7fdde8cc6395",
   "metadata": {
    "tags": []
   },
   "outputs": [],
   "source": [
    "df = df.drop('pH_change', axis=1)"
   ]
  },
  {
   "cell_type": "markdown",
   "id": "c2207246-8519-4803-bc78-32227b288c5a",
   "metadata": {},
   "source": [
    "__Air Flow Bound (220,350)__"
   ]
  },
  {
   "cell_type": "code",
   "execution_count": 38,
   "id": "012c5aae-f7a7-4cda-af72-2be8b669ca49",
   "metadata": {
    "tags": []
   },
   "outputs": [],
   "source": [
    "min_air_flow = 220\n",
    "max_air_flow = 350\n",
    "df = df[(df['fc1_air_flow']>min_air_flow) | (df['fc1_air_flow']<max_air_flow)|\n",
    "       (df['fc2_air_flow']>min_air_flow) | (df['fc2_air_flow']<max_air_flow)|\n",
    "        (df['fc3_air_flow']>min_air_flow) | (df['fc3_air_flow']<max_air_flow)|\n",
    "        (df['fc4_air_flow']>min_air_flow) | (df['fc4_air_flow']<max_air_flow)|\n",
    "        (df['fc5_air_flow']>min_air_flow) | (df['fc5_air_flow']<max_air_flow)|\n",
    "        (df['fc6_air_flow']>min_air_flow) | (df['fc6_air_flow']<max_air_flow)|\n",
    "        (df['fc7_air_flow']>min_air_flow) | (df['fc7_air_flow']<max_air_flow)\n",
    "       ]"
   ]
  },
  {
   "cell_type": "markdown",
   "id": "757aa363-df7a-44e7-9c5a-d407660fa18a",
   "metadata": {},
   "source": [
    "__Level Bound (150,750)__"
   ]
  },
  {
   "cell_type": "code",
   "execution_count": 40,
   "id": "201d5a4e-3ecb-40a5-80c1-565b1c491a97",
   "metadata": {
    "tags": []
   },
   "outputs": [],
   "source": [
    "min_level = 150\n",
    "max_level = 750\n",
    "df = df[(df['fc1_level']>min_level)|(df['fc1_level']<max_level)|\n",
    "        (df['fc2_level']>min_level)|(df['fc2_level']<max_level)|\n",
    "        (df['fc3_level']>min_level)|(df['fc3_level']<max_level)|\n",
    "        (df['fc4_level']>min_level)|(df['fc4_level']<max_level)|\n",
    "        (df['fc5_level']>min_level)|(df['fc5_level']<max_level)|\n",
    "        (df['fc6_level']>min_level)|(df['fc6_level']<max_level)|\n",
    "        (df['fc7_level']>min_level)|(df['fc7_level']<max_level)\n",
    "       ]"
   ]
  },
  {
   "cell_type": "markdown",
   "id": "efbb9c3f-8b9b-46f6-aa45-0fde89176f98",
   "metadata": {},
   "source": [
    "- __Amina Bound      (250,700)__\n",
    "- __Pulp Flow bound  (370,415)__\n",
    "- __pH bound         (8.75,10.8)__\n",
    "- __Density Bound    (1.5,1.85)__"
   ]
  },
  {
   "cell_type": "code",
   "execution_count": 42,
   "id": "fdf558fb-39cb-4adb-8aae-d467467d440a",
   "metadata": {
    "tags": []
   },
   "outputs": [],
   "source": [
    "df = df[(df['amina_flow']>=250)&(df['amina_flow']<=700)&\n",
    "        (df['pulp_flow']>=370)&(df['pulp_flow']<=415)&\n",
    "        (df['pH']>=8.75)&(df['pH']<=10.8)&\n",
    "        (df['pulp_density']>=1.5)&(df['pulp_density']<=1.85)\n",
    "       ]"
   ]
  },
  {
   "cell_type": "markdown",
   "id": "18492def-e69c-4690-b47a-4a5d0a8c890e",
   "metadata": {},
   "source": [
    "__Add Another Column: mean_air_flow and mean_level__"
   ]
  },
  {
   "cell_type": "code",
   "execution_count": 44,
   "id": "57ef461e-87b6-42cd-a46e-f04cf7d48586",
   "metadata": {
    "tags": []
   },
   "outputs": [],
   "source": [
    "df['mean_air_flow']=df.iloc[:, 1:7].mean(axis=1)"
   ]
  },
  {
   "cell_type": "code",
   "execution_count": 45,
   "id": "cebb45a3-7350-494c-8535-f62c715c7a7a",
   "metadata": {
    "tags": []
   },
   "outputs": [],
   "source": [
    "df['mean_level']=df.iloc[:, 8:14].mean(axis=1)"
   ]
  },
  {
   "cell_type": "markdown",
   "id": "716061f7-3ec2-4365-9d63-b9d703fc9c98",
   "metadata": {},
   "source": [
    "__Remove Column Air Flow and Level__"
   ]
  },
  {
   "cell_type": "code",
   "execution_count": 47,
   "id": "37fb780d-fc20-4099-96e8-ceee5136addc",
   "metadata": {},
   "outputs": [],
   "source": [
    "df = df.drop(['fc1_air_flow', 'fc2_air_flow', 'fc3_air_flow', 'fc4_air_flow',\n",
    "       'fc5_air_flow', 'fc6_air_flow', 'fc7_air_flow', 'fc1_level',\n",
    "       'fc2_level', 'fc3_level', 'fc4_level', 'fc5_level', 'fc6_level',\n",
    "       'fc7_level'], axis=1)"
   ]
  },
  {
   "cell_type": "markdown",
   "id": "80a590ac-0650-4dc4-aa3c-c735975a798a",
   "metadata": {},
   "source": [
    "__Change date to hour__"
   ]
  },
  {
   "cell_type": "code",
   "execution_count": 49,
   "id": "7791102f-e8f5-4f3f-9c7f-2c6fb25476fa",
   "metadata": {
    "tags": []
   },
   "outputs": [],
   "source": [
    "df['hour']= df['date'].dt.hour\n",
    "df['date']= df['date'].dt.date"
   ]
  },
  {
   "cell_type": "code",
   "execution_count": 50,
   "id": "bb8efb06-82c2-4794-8d18-fbf9185b5ba8",
   "metadata": {
    "tags": []
   },
   "outputs": [],
   "source": [
    "df = df.groupby(['date', 'hour'], as_index=False).agg({\n",
    "                                                   'iron_feed':'mean', \n",
    "                                                   'silica_feed':'mean', \n",
    "                                                   'starch_flow':'mean', \n",
    "                                                   'amina_flow':'mean',\n",
    "                                                   'pulp_flow':'mean', \n",
    "                                                   'pH':'mean', \n",
    "                                                   'pulp_density':'mean',\n",
    "                                                   'iron_concentrate':'mean',\n",
    "                                                   'silica_concentrate':'mean',\n",
    "                                                    'mean_air_flow':'mean',\n",
    "                                                    'mean_level':'mean'  \n",
    "                                            })"
   ]
  },
  {
   "cell_type": "code",
   "execution_count": 51,
   "id": "7a4b6523-f106-4a03-a44b-13a75e3587ab",
   "metadata": {
    "tags": []
   },
   "outputs": [],
   "source": [
    "df['date']= pd.to_datetime(df['date'], format=\"%d/%m/%Y\")\n",
    "df['hour']= pd.to_datetime(df['hour'], format=\"%H\")"
   ]
  },
  {
   "cell_type": "code",
   "execution_count": 52,
   "id": "36104d30-9e85-4579-bdab-39b28a82c549",
   "metadata": {
    "tags": []
   },
   "outputs": [],
   "source": [
    "df = df.assign(datetime_column = df['date'] + pd.to_timedelta(df['hour'].dt.hour, unit='h') )"
   ]
  },
  {
   "cell_type": "code",
   "execution_count": 53,
   "id": "bc76e202-b765-4868-a806-d016378ab8cb",
   "metadata": {
    "tags": []
   },
   "outputs": [],
   "source": [
    "df = df.drop(['date', 'hour'], axis=1)"
   ]
  },
  {
   "cell_type": "code",
   "execution_count": 54,
   "id": "cefe2fc4-2d9d-49ba-8279-3b057bf0337d",
   "metadata": {
    "tags": []
   },
   "outputs": [],
   "source": [
    "df = df.rename(columns={'datetime_column':'date'})"
   ]
  },
  {
   "cell_type": "code",
   "execution_count": 55,
   "id": "6e038f93-c257-49a2-94ff-2c90e1470501",
   "metadata": {
    "tags": []
   },
   "outputs": [],
   "source": [
    "df.to_csv('data_clean.csv', index=False)"
   ]
  },
  {
   "cell_type": "markdown",
   "id": "26ed521b-085c-4ccd-9b21-0f297ea09eae",
   "metadata": {},
   "source": [
    "# Challenge"
   ]
  },
  {
   "cell_type": "markdown",
   "id": "914a71eb-2a1f-4bd7-a165-b14eb9c39eac",
   "metadata": {},
   "source": [
    "What are we looking for?\n",
    "\n",
    "- Can you accurately predict SiO2 so we can have a chance to act on it before lab tests come back?\n",
    "\n",
    "- What are the most important variables and how do they influence the level of SiO2?\n",
    "\n",
    "Hints: Structure the feed and flotation data set into training and test sets. Consider rolling it up to one-hour frequency data. Assess the results on the scoring data set\n",
    "\n",
    "- Can we operate better than we have in the past? (Formulate an optimization problem to reduce the silica content in output concentrate)\n",
    "\n",
    "- What values should we choose for controllable variables? (Run it over a test set in the past)\n",
    "\n",
    "- What is the impact we can expect? (Show a sample recommendation in the past test set and assess the impact - How much silica% could your optimizer reduce?)"
   ]
  },
  {
   "cell_type": "markdown",
   "id": "8f5bc38d-76e2-4170-b55a-2ea615898e60",
   "metadata": {},
   "source": [
    "# EDA"
   ]
  },
  {
   "cell_type": "code",
   "execution_count": 59,
   "id": "c51b4424-e6d5-4527-98b6-b616e923dc9f",
   "metadata": {
    "tags": []
   },
   "outputs": [
    {
     "data": {
      "image/png": "[encoded data removed]",
      "text/plain": [
       "<Figure size 1200x1200 with 12 Axes>"
      ]
     },
     "metadata": {},
     "output_type": "display_data"
    }
   ],
   "source": [
    "variables = ['iron_feed', 'silica_feed', 'starch_flow', 'amina_flow','pulp_flow', 'pH', 'pulp_density', 'iron_concentrate', 'mean_air_flow', 'mean_level']\n",
    "fig, ax = plt.subplots(nrows = 3,ncols = 4,figsize = (12,12))\n",
    "for i in range(len(variables)):\n",
    "    plt.subplot(3,4,i+1)\n",
    "    sns.regplot(data=df, x=df[variables[i]], y=df['silica_concentrate']);"
   ]
  },
  {
   "cell_type": "markdown",
   "id": "3d4d4c0a-26b6-4065-bd19-b9305cee1c58",
   "metadata": {},
   "source": [
    "Only % iron concentrate that has clear relationship with % silica concentrate"
   ]
  },
  {
   "cell_type": "markdown",
   "id": "91d3c1d3-20b1-4384-8834-b42e67b884b4",
   "metadata": {
    "tags": []
   },
   "source": [
    "# Test Data"
   ]
  },
  {
   "cell_type": "code",
   "execution_count": 62,
   "id": "6f401e02-d3b1-490f-813d-d4f657316124",
   "metadata": {
    "tags": []
   },
   "outputs": [
    {
     "data": {
      "text/html": [
       "<div>\n",
       "<style scoped>\n",
       "    .dataframe tbody tr th:only-of-type {\n",
       "        vertical-align: middle;\n",
       "    }\n",
       "\n",
       "    .dataframe tbody tr th {\n",
       "        vertical-align: top;\n",
       "    }\n",
       "\n",
       "    .dataframe thead th {\n",
       "        text-align: right;\n",
       "    }\n",
       "</style>\n",
       "<table border=\"1\" class=\"dataframe\">\n",
       "  <thead>\n",
       "    <tr style=\"text-align: right;\">\n",
       "      <th></th>\n",
       "      <th>Unnamed: 0</th>\n",
       "      <th>breaks</th>\n",
       "      <th>% Iron Feed</th>\n",
       "      <th>% Silica Feed</th>\n",
       "      <th>Starch Flow</th>\n",
       "      <th>Amina Flow</th>\n",
       "      <th>Ore Pulp Flow</th>\n",
       "      <th>Ore Pulp pH</th>\n",
       "      <th>Ore Pulp Density</th>\n",
       "      <th>% Iron Concentrate</th>\n",
       "      <th>...</th>\n",
       "      <th>Flotation Column 05 Air Flow</th>\n",
       "      <th>Flotation Column 06 Air Flow</th>\n",
       "      <th>Flotation Column 07 Air Flow</th>\n",
       "      <th>Flotation Column 01 Level</th>\n",
       "      <th>Flotation Column 02 Level</th>\n",
       "      <th>Flotation Column 03 Level</th>\n",
       "      <th>Flotation Column 04 Level</th>\n",
       "      <th>Flotation Column 05 Level</th>\n",
       "      <th>Flotation Column 06 Level</th>\n",
       "      <th>Flotation Column 07 Level</th>\n",
       "    </tr>\n",
       "  </thead>\n",
       "  <tbody>\n",
       "    <tr>\n",
       "      <th>0</th>\n",
       "      <td>1</td>\n",
       "      <td>2017-08-06 20:00:00</td>\n",
       "      <td>54.43</td>\n",
       "      <td>17.29</td>\n",
       "      <td>2613.038169</td>\n",
       "      <td>454.561070</td>\n",
       "      <td>378.064854</td>\n",
       "      <td>9.931762</td>\n",
       "      <td>1.686552</td>\n",
       "      <td>64.919704</td>\n",
       "      <td>...</td>\n",
       "      <td>294.560122</td>\n",
       "      <td>250.229310</td>\n",
       "      <td>250.058972</td>\n",
       "      <td>399.323437</td>\n",
       "      <td>500.220408</td>\n",
       "      <td>397.783211</td>\n",
       "      <td>349.085113</td>\n",
       "      <td>347.328521</td>\n",
       "      <td>349.963563</td>\n",
       "      <td>348.319366</td>\n",
       "    </tr>\n",
       "    <tr>\n",
       "      <th>1</th>\n",
       "      <td>2</td>\n",
       "      <td>2017-08-06 21:00:00</td>\n",
       "      <td>54.43</td>\n",
       "      <td>17.29</td>\n",
       "      <td>2521.177611</td>\n",
       "      <td>544.954628</td>\n",
       "      <td>381.128578</td>\n",
       "      <td>9.800920</td>\n",
       "      <td>1.703249</td>\n",
       "      <td>65.084934</td>\n",
       "      <td>...</td>\n",
       "      <td>294.595865</td>\n",
       "      <td>250.018478</td>\n",
       "      <td>250.035567</td>\n",
       "      <td>399.872933</td>\n",
       "      <td>499.609472</td>\n",
       "      <td>399.703861</td>\n",
       "      <td>401.973489</td>\n",
       "      <td>400.094067</td>\n",
       "      <td>401.344939</td>\n",
       "      <td>401.613544</td>\n",
       "    </tr>\n",
       "    <tr>\n",
       "      <th>2</th>\n",
       "      <td>3</td>\n",
       "      <td>2017-08-06 22:00:00</td>\n",
       "      <td>54.43</td>\n",
       "      <td>17.29</td>\n",
       "      <td>3160.592611</td>\n",
       "      <td>533.799906</td>\n",
       "      <td>394.198503</td>\n",
       "      <td>9.908214</td>\n",
       "      <td>1.694354</td>\n",
       "      <td>64.617513</td>\n",
       "      <td>...</td>\n",
       "      <td>294.646510</td>\n",
       "      <td>250.082628</td>\n",
       "      <td>249.969739</td>\n",
       "      <td>401.002250</td>\n",
       "      <td>500.855228</td>\n",
       "      <td>404.020889</td>\n",
       "      <td>450.990439</td>\n",
       "      <td>452.319922</td>\n",
       "      <td>462.569139</td>\n",
       "      <td>462.109017</td>\n",
       "    </tr>\n",
       "    <tr>\n",
       "      <th>3</th>\n",
       "      <td>4</td>\n",
       "      <td>2017-08-06 23:00:00</td>\n",
       "      <td>54.43</td>\n",
       "      <td>17.29</td>\n",
       "      <td>3217.510222</td>\n",
       "      <td>434.136239</td>\n",
       "      <td>379.225582</td>\n",
       "      <td>10.176201</td>\n",
       "      <td>1.696288</td>\n",
       "      <td>65.161826</td>\n",
       "      <td>...</td>\n",
       "      <td>294.697155</td>\n",
       "      <td>250.072056</td>\n",
       "      <td>250.038978</td>\n",
       "      <td>398.263528</td>\n",
       "      <td>499.411522</td>\n",
       "      <td>402.165911</td>\n",
       "      <td>449.798711</td>\n",
       "      <td>450.753983</td>\n",
       "      <td>501.192417</td>\n",
       "      <td>500.974250</td>\n",
       "    </tr>\n",
       "    <tr>\n",
       "      <th>4</th>\n",
       "      <td>5</td>\n",
       "      <td>2017-08-07 00:00:00</td>\n",
       "      <td>54.43</td>\n",
       "      <td>17.29</td>\n",
       "      <td>2861.854944</td>\n",
       "      <td>474.722744</td>\n",
       "      <td>380.136973</td>\n",
       "      <td>9.865055</td>\n",
       "      <td>1.704528</td>\n",
       "      <td>65.352088</td>\n",
       "      <td>...</td>\n",
       "      <td>294.747799</td>\n",
       "      <td>250.044672</td>\n",
       "      <td>250.041467</td>\n",
       "      <td>399.693289</td>\n",
       "      <td>498.647283</td>\n",
       "      <td>399.367050</td>\n",
       "      <td>449.842061</td>\n",
       "      <td>447.035811</td>\n",
       "      <td>500.069683</td>\n",
       "      <td>498.262583</td>\n",
       "    </tr>\n",
       "  </tbody>\n",
       "</table>\n",
       "<p>5 rows × 24 columns</p>\n",
       "</div>"
      ],
      "text/plain": [
       "   Unnamed: 0               breaks  % Iron Feed  % Silica Feed  Starch Flow  \\\n",
       "0           1  2017-08-06 20:00:00        54.43          17.29  2613.038169   \n",
       "1           2  2017-08-06 21:00:00        54.43          17.29  2521.177611   \n",
       "2           3  2017-08-06 22:00:00        54.43          17.29  3160.592611   \n",
       "3           4  2017-08-06 23:00:00        54.43          17.29  3217.510222   \n",
       "4           5  2017-08-07 00:00:00        54.43          17.29  2861.854944   \n",
       "\n",
       "   Amina Flow  Ore Pulp Flow  Ore Pulp pH  Ore Pulp Density  \\\n",
       "0  454.561070     378.064854     9.931762          1.686552   \n",
       "1  544.954628     381.128578     9.800920          1.703249   \n",
       "2  533.799906     394.198503     9.908214          1.694354   \n",
       "3  434.136239     379.225582    10.176201          1.696288   \n",
       "4  474.722744     380.136973     9.865055          1.704528   \n",
       "\n",
       "   % Iron Concentrate  ...  Flotation Column 05 Air Flow  \\\n",
       "0           64.919704  ...                    294.560122   \n",
       "1           65.084934  ...                    294.595865   \n",
       "2           64.617513  ...                    294.646510   \n",
       "3           65.161826  ...                    294.697155   \n",
       "4           65.352088  ...                    294.747799   \n",
       "\n",
       "   Flotation Column 06 Air Flow  Flotation Column 07 Air Flow  \\\n",
       "0                    250.229310                    250.058972   \n",
       "1                    250.018478                    250.035567   \n",
       "2                    250.082628                    249.969739   \n",
       "3                    250.072056                    250.038978   \n",
       "4                    250.044672                    250.041467   \n",
       "\n",
       "   Flotation Column 01 Level  Flotation Column 02 Level  \\\n",
       "0                 399.323437                 500.220408   \n",
       "1                 399.872933                 499.609472   \n",
       "2                 401.002250                 500.855228   \n",
       "3                 398.263528                 499.411522   \n",
       "4                 399.693289                 498.647283   \n",
       "\n",
       "   Flotation Column 03 Level  Flotation Column 04 Level  \\\n",
       "0                 397.783211                 349.085113   \n",
       "1                 399.703861                 401.973489   \n",
       "2                 404.020889                 450.990439   \n",
       "3                 402.165911                 449.798711   \n",
       "4                 399.367050                 449.842061   \n",
       "\n",
       "   Flotation Column 05 Level  Flotation Column 06 Level  \\\n",
       "0                 347.328521                 349.963563   \n",
       "1                 400.094067                 401.344939   \n",
       "2                 452.319922                 462.569139   \n",
       "3                 450.753983                 501.192417   \n",
       "4                 447.035811                 500.069683   \n",
       "\n",
       "   Flotation Column 07 Level  \n",
       "0                 348.319366  \n",
       "1                 401.613544  \n",
       "2                 462.109017  \n",
       "3                 500.974250  \n",
       "4                 498.262583  \n",
       "\n",
       "[5 rows x 24 columns]"
      ]
     },
     "execution_count": 62,
     "metadata": {},
     "output_type": "execute_result"
    }
   ],
   "source": [
    "test = pd.read_csv('scoringdataset.csv')\n",
    "test.head()"
   ]
  },
  {
   "cell_type": "code",
   "execution_count": 63,
   "id": "f169f784-c8aa-4db4-a9f4-f5e82c221e25",
   "metadata": {
    "tags": []
   },
   "outputs": [],
   "source": [
    "test = test.drop('Unnamed: 0', axis=1)"
   ]
  },
  {
   "cell_type": "code",
   "execution_count": 64,
   "id": "eaeb1d5d-746b-49e2-ae3d-ab6a49f0dd88",
   "metadata": {
    "tags": []
   },
   "outputs": [
    {
     "data": {
      "text/plain": [
       "breaks                          0\n",
       "% Iron Feed                     0\n",
       "% Silica Feed                   0\n",
       "Starch Flow                     0\n",
       "Amina Flow                      0\n",
       "Ore Pulp Flow                   0\n",
       "Ore Pulp pH                     0\n",
       "Ore Pulp Density                0\n",
       "% Iron Concentrate              0\n",
       "Flotation Column 01 Air Flow    0\n",
       "Flotation Column 02 Air Flow    0\n",
       "Flotation Column 03 Air Flow    0\n",
       "Flotation Column 04 Air Flow    0\n",
       "Flotation Column 05 Air Flow    0\n",
       "Flotation Column 06 Air Flow    0\n",
       "Flotation Column 07 Air Flow    0\n",
       "Flotation Column 01 Level       0\n",
       "Flotation Column 02 Level       0\n",
       "Flotation Column 03 Level       0\n",
       "Flotation Column 04 Level       0\n",
       "Flotation Column 05 Level       0\n",
       "Flotation Column 06 Level       0\n",
       "Flotation Column 07 Level       0\n",
       "dtype: int64"
      ]
     },
     "execution_count": 64,
     "metadata": {},
     "output_type": "execute_result"
    }
   ],
   "source": [
    "test[test.duplicated()].count()"
   ]
  },
  {
   "cell_type": "markdown",
   "id": "4c5d861e-dac2-41ec-9ce1-0555bb3a517c",
   "metadata": {},
   "source": [
    "There are no duplicates"
   ]
  },
  {
   "cell_type": "code",
   "execution_count": 66,
   "id": "35709406-3063-480e-8434-e1e9b3dafa9e",
   "metadata": {
    "tags": []
   },
   "outputs": [],
   "source": [
    "test['breaks']= pd.to_datetime(test['breaks'], format=\"mixed\")"
   ]
  },
  {
   "cell_type": "code",
   "execution_count": 67,
   "id": "c49b15ca-d276-421a-8884-9d49084a7bad",
   "metadata": {
    "tags": []
   },
   "outputs": [],
   "source": [
    "test = test.rename(columns={'breaks':'date','Flotation Column 01 Air Flow':'fc1_air_flow',\n",
    "                   'Flotation Column 02 Air Flow':'fc2_air_flow',\n",
    "                   'Flotation Column 03 Air Flow':'fc3_air_flow',\n",
    "                   'Flotation Column 04 Air Flow':'fc4_air_flow',\n",
    "                   'Flotation Column 05 Air Flow':'fc5_air_flow',\n",
    "                   'Flotation Column 06 Air Flow':'fc6_air_flow',\n",
    "                   'Flotation Column 07 Air Flow':'fc7_air_flow',\n",
    "                   'Flotation Column 01 Level':'fc1_level',\n",
    "                   'Flotation Column 02 Level':'fc2_level',\n",
    "                   'Flotation Column 03 Level':'fc3_level',\n",
    "                   'Flotation Column 04 Level':'fc4_level',\n",
    "                   'Flotation Column 05 Level':'fc5_level',\n",
    "                   'Flotation Column 06 Level':'fc6_level',\n",
    "                   'Flotation Column 07 Level':'fc7_level',\n",
    "                   '% Iron Feed':'iron_feed',\n",
    "                   '% Silica Feed':'silica_feed',\n",
    "                   'Starch Flow':'starch_flow',\n",
    "                   'Amina Flow':'amina_flow',\n",
    "                   'Ore Pulp Flow':'pulp_flow',\n",
    "                   'Ore Pulp pH':'pH',\n",
    "                   'Ore Pulp Density':'pulp_density',\n",
    "                   '% Iron Concentrate':'iron_concentrate',\n",
    "                   '% Silica Concentrate':'silica_concentrate'})"
   ]
  },
  {
   "cell_type": "markdown",
   "id": "1ec33127-7ff9-4c6a-81ec-2c40e4cc62a1",
   "metadata": {},
   "source": [
    "### Apply Constrain\n",
    "\n",
    "- Minimum sum of airflow for all columns = 1490\n",
    "- Min starch and Amina flow combined = 1000\n",
    "- %age starch Increase in 1 hour = +(-) 5%\n",
    "- %age Amina increase in 1 hour = +(-) 5%\n",
    "- %age pH change = +(-) 5%\n",
    "- Airflow bound   (220,350)\n",
    "- Level Bound     (150,750)\n",
    "- Amina Bound     (250,700)\n",
    "- Pulp Flow bound (370,415)\n",
    "- pH bound        (8.75,10.8)\n",
    "- Density Bound   (1.5,1.85)"
   ]
  },
  {
   "cell_type": "markdown",
   "id": "8b8059e5-9fbc-49e1-8b3a-7c7218caec27",
   "metadata": {},
   "source": [
    "__Total Air Flow => 1490__"
   ]
  },
  {
   "cell_type": "code",
   "execution_count": 70,
   "id": "b272a9b8-fd10-4097-baa9-54d4951dc281",
   "metadata": {
    "tags": []
   },
   "outputs": [],
   "source": [
    "#test['total_air_flow']=test['fc1_air_flow']+ test['fc2_air_flow']+ test['fc3_air_flow']+ test['fc4_air_flow']+test['fc5_air_flow']+ test['fc6_air_flow']+test['fc7_air_flow']\n",
    "test['total_air_flow']=test.iloc[:, 1:7].sum(axis=1)"
   ]
  },
  {
   "cell_type": "code",
   "execution_count": 71,
   "id": "d9ad6afd-adb3-4512-a8b7-94bf8729aaa9",
   "metadata": {
    "tags": []
   },
   "outputs": [],
   "source": [
    "test = test[test['total_air_flow']>=1490]"
   ]
  },
  {
   "cell_type": "code",
   "execution_count": 72,
   "id": "910da781-e92d-4a93-a432-86bf108dcea6",
   "metadata": {
    "tags": []
   },
   "outputs": [],
   "source": [
    "test = test.drop('total_air_flow', axis=1)"
   ]
  },
  {
   "cell_type": "markdown",
   "id": "6b224e79-f66d-4aac-beeb-135aa442ba4c",
   "metadata": {},
   "source": [
    "__Min starch and Amina flow combined = 1000__"
   ]
  },
  {
   "cell_type": "code",
   "execution_count": 74,
   "id": "6fd15c21-70ee-4ad4-ae4f-0368330ec218",
   "metadata": {
    "tags": []
   },
   "outputs": [],
   "source": [
    "test['starch_amina_flow']= test['starch_flow']+ test['amina_flow']"
   ]
  },
  {
   "cell_type": "code",
   "execution_count": 75,
   "id": "1686b207-ab4c-4625-b706-d92d4cb916f2",
   "metadata": {
    "tags": []
   },
   "outputs": [],
   "source": [
    "test = test[test['starch_amina_flow']>=1000]"
   ]
  },
  {
   "cell_type": "code",
   "execution_count": 76,
   "id": "77ef0b33-6b7d-4a2b-8ab1-4f1b6649f060",
   "metadata": {
    "tags": []
   },
   "outputs": [],
   "source": [
    "test = test.drop('starch_amina_flow', axis=1)"
   ]
  },
  {
   "cell_type": "markdown",
   "id": "935df66c-eba9-43d8-8df5-9a8d6807db56",
   "metadata": {},
   "source": [
    "__%age pH change = +(-) 5%__"
   ]
  },
  {
   "cell_type": "code",
   "execution_count": 78,
   "id": "81b127a0-19ea-4fc1-aea4-b9ae43adf556",
   "metadata": {
    "tags": []
   },
   "outputs": [],
   "source": [
    "# make percentage change from before\n",
    "test['pH_change']=abs(100*test['pH'].pct_change())\n",
    "test['pH_change'] = test['pH_change'].fillna(0)"
   ]
  },
  {
   "cell_type": "code",
   "execution_count": 79,
   "id": "3a8fe84e-a105-4fb8-b5fa-669f00007739",
   "metadata": {
    "tags": []
   },
   "outputs": [],
   "source": [
    "test = test[test['pH_change']<5]"
   ]
  },
  {
   "cell_type": "code",
   "execution_count": 80,
   "id": "28e98e5f-d07e-4d1e-ba29-85a542e4c68c",
   "metadata": {
    "tags": []
   },
   "outputs": [],
   "source": [
    "test = test.drop('pH_change', axis=1)"
   ]
  },
  {
   "cell_type": "markdown",
   "id": "d6301ac8-d0c0-4778-b898-5c587215e46a",
   "metadata": {},
   "source": [
    "__Air Flow Bound (220,350)__"
   ]
  },
  {
   "cell_type": "code",
   "execution_count": 82,
   "id": "6c287acb-4795-4a62-bbbd-ce7e59a63e94",
   "metadata": {
    "tags": []
   },
   "outputs": [],
   "source": [
    "min_air_flow = 220\n",
    "max_air_flow = 350\n",
    "test = test[(test['fc1_air_flow']>min_air_flow) | (test['fc1_air_flow']<max_air_flow)|\n",
    "       (test['fc2_air_flow']>min_air_flow) | (test['fc2_air_flow']<max_air_flow)|\n",
    "        (test['fc3_air_flow']>min_air_flow) | (test['fc3_air_flow']<max_air_flow)|\n",
    "        (test['fc4_air_flow']>min_air_flow) | (test['fc4_air_flow']<max_air_flow)|\n",
    "        (test['fc5_air_flow']>min_air_flow) | (test['fc5_air_flow']<max_air_flow)|\n",
    "        (test['fc6_air_flow']>min_air_flow) | (test['fc6_air_flow']<max_air_flow)|\n",
    "        (test['fc7_air_flow']>min_air_flow) | (test['fc7_air_flow']<max_air_flow)\n",
    "           ]"
   ]
  },
  {
   "cell_type": "markdown",
   "id": "caffbe4f-1a10-4d05-ad4a-a84c283f082a",
   "metadata": {},
   "source": [
    "__Level Bound (150,750)__"
   ]
  },
  {
   "cell_type": "code",
   "execution_count": 84,
   "id": "6381b262-4484-45f6-9c35-70c83b083bed",
   "metadata": {
    "tags": []
   },
   "outputs": [],
   "source": [
    "min_level = 150\n",
    "max_level = 750\n",
    "test = test[(test['fc1_level']>min_level)|(test['fc1_level']<max_level)|\n",
    "        (test['fc2_level']>min_level)|(test['fc2_level']<max_level)|\n",
    "        (test['fc3_level']>min_level)|(test['fc3_level']<max_level)|\n",
    "        (test['fc4_level']>min_level)|(test['fc4_level']<max_level)|\n",
    "        (test['fc5_level']>min_level)|(test['fc5_level']<max_level)|\n",
    "        (test['fc6_level']>min_level)|(test['fc6_level']<max_level)|\n",
    "        (test['fc7_level']>min_level)|(test['fc7_level']<max_level)\n",
    "       ]"
   ]
  },
  {
   "cell_type": "markdown",
   "id": "900d1ea0-ccbd-4955-b1e8-dcb5441e9c3c",
   "metadata": {},
   "source": [
    "- __Amina Bound      (250,700)__\n",
    "- __Pulp Flow bound  (370,415)__\n",
    "- __pH bound         (8.75,10.8)__\n",
    "- __Density Bound    (1.5,1.85)__"
   ]
  },
  {
   "cell_type": "code",
   "execution_count": 86,
   "id": "a1f806ce-3bc6-418b-86f1-19021c9e4b56",
   "metadata": {
    "tags": []
   },
   "outputs": [],
   "source": [
    "test = test[(test['amina_flow']>=250)&(test['amina_flow']<=700)&\n",
    "        (test['pulp_flow']>=370)&(test['pulp_flow']<=415)&\n",
    "        (test['pH']>=8.75)&(test['pH']<=10.8)&\n",
    "        (test['pulp_density']>=1.5)&(test['pulp_density']<=1.85)\n",
    "       ]"
   ]
  },
  {
   "cell_type": "markdown",
   "id": "ff7163a6-ea94-4b65-976b-098e365eb378",
   "metadata": {},
   "source": [
    "__Add Another Column: mean_air_flow__"
   ]
  },
  {
   "cell_type": "code",
   "execution_count": 88,
   "id": "f065d75b-a97a-4e63-8bbd-70c9e435e3b3",
   "metadata": {
    "tags": []
   },
   "outputs": [],
   "source": [
    "test['mean_air_flow']=test.iloc[:, 1:7].mean(axis=1)"
   ]
  },
  {
   "cell_type": "code",
   "execution_count": 89,
   "id": "523d4e37-59dc-4b74-b40e-3fe7b96d641d",
   "metadata": {
    "tags": []
   },
   "outputs": [],
   "source": [
    "test['mean_level']=test.iloc[:, 8:14].mean(axis=1)"
   ]
  },
  {
   "cell_type": "markdown",
   "id": "c9ed32bb-b953-4816-851b-002a9f453f1d",
   "metadata": {},
   "source": [
    "__Remove Column Air Flow and Level__"
   ]
  },
  {
   "cell_type": "code",
   "execution_count": 91,
   "id": "debb857d-f8f0-40cc-adaf-4290b5486b44",
   "metadata": {
    "tags": []
   },
   "outputs": [],
   "source": [
    "test = test.drop(['fc1_air_flow', 'fc2_air_flow', 'fc3_air_flow', 'fc4_air_flow',\n",
    "       'fc5_air_flow', 'fc6_air_flow', 'fc7_air_flow', 'fc1_level',\n",
    "       'fc2_level', 'fc3_level', 'fc4_level', 'fc5_level', 'fc6_level',\n",
    "       'fc7_level'], axis=1)"
   ]
  },
  {
   "cell_type": "code",
   "execution_count": 92,
   "id": "e3a35b53-e0da-4489-ad14-7e0a2384d94f",
   "metadata": {
    "tags": []
   },
   "outputs": [],
   "source": [
    "test.to_csv('test_clean.csv', index=False)"
   ]
  },
  {
   "cell_type": "markdown",
   "id": "579ef0f7-a2b9-4873-845a-1d5bde9d76dd",
   "metadata": {},
   "source": [
    "# Decision Tree"
   ]
  },
  {
   "cell_type": "markdown",
   "id": "ea055f18-b44b-4f0f-a42d-4fd4bebdc287",
   "metadata": {},
   "source": [
    "## Library"
   ]
  },
  {
   "cell_type": "code",
   "execution_count": 95,
   "id": "96e4df7f-df38-451c-9769-ba39a64037f4",
   "metadata": {
    "tags": []
   },
   "outputs": [],
   "source": [
    "from sklearn.model_selection import train_test_split\n",
    "from sklearn.tree import DecisionTreeRegressor\n",
    "from sklearn.ensemble import RandomForestRegressor\n",
    "from xgboost import XGBRegressor\n",
    "from sklearn import metrics"
   ]
  },
  {
   "cell_type": "markdown",
   "id": "1739be7c-8348-4747-8023-92466278f1c1",
   "metadata": {},
   "source": [
    "## Train test split"
   ]
  },
  {
   "cell_type": "code",
   "execution_count": 97,
   "id": "5a85fa22-d672-487d-9394-98fde0a36077",
   "metadata": {
    "tags": []
   },
   "outputs": [],
   "source": [
    "X = df.drop(['date','silica_concentrate'] ,axis=1)\n",
    "y = df['silica_concentrate']\n",
    "X_train, X_test, y_train, y_test = train_test_split(X, y, test_size=0.30)"
   ]
  },
  {
   "cell_type": "markdown",
   "id": "ce66684f-42f9-4314-8577-94272e76e24b",
   "metadata": {
    "tags": []
   },
   "source": [
    "## Training the DecisionTree model"
   ]
  },
  {
   "cell_type": "code",
   "execution_count": 99,
   "id": "86182c1a-55ba-49b1-be6a-9ec45eed5581",
   "metadata": {
    "tags": []
   },
   "outputs": [],
   "source": [
    "dtree = DecisionTreeRegressor()"
   ]
  },
  {
   "cell_type": "code",
   "execution_count": 100,
   "id": "1286c736-1003-48d0-a468-cfd78ec8f93c",
   "metadata": {
    "tags": []
   },
   "outputs": [
    {
     "data": {
      "text/html": [
       "<style>#sk-container-id-1 {\n",
       "  /* Definition of color scheme common for light and dark mode */\n",
       "  --sklearn-color-text: black;\n",
       "  --sklearn-color-line: gray;\n",
       "  /* Definition of color scheme for unfitted estimators */\n",
       "  --sklearn-color-unfitted-level-0: #fff5e6;\n",
       "  --sklearn-color-unfitted-level-1: #f6e4d2;\n",
       "  --sklearn-color-unfitted-level-2: #ffe0b3;\n",
       "  --sklearn-color-unfitted-level-3: chocolate;\n",
       "  /* Definition of color scheme for fitted estimators */\n",
       "  --sklearn-color-fitted-level-0: #f0f8ff;\n",
       "  --sklearn-color-fitted-level-1: #d4ebff;\n",
       "  --sklearn-color-fitted-level-2: #b3dbfd;\n",
       "  --sklearn-color-fitted-level-3: cornflowerblue;\n",
       "\n",
       "  /* Specific color for light theme */\n",
       "  --sklearn-color-text-on-default-background: var(--sg-text-color, var(--theme-code-foreground, var(--jp-content-font-color1, black)));\n",
       "  --sklearn-color-background: var(--sg-background-color, var(--theme-background, var(--jp-layout-color0, white)));\n",
       "  --sklearn-color-border-box: var(--sg-text-color, var(--theme-code-foreground, var(--jp-content-font-color1, black)));\n",
       "  --sklearn-color-icon: #696969;\n",
       "\n",
       "  @media (prefers-color-scheme: dark) {\n",
       "    /* Redefinition of color scheme for dark theme */\n",
       "    --sklearn-color-text-on-default-background: var(--sg-text-color, var(--theme-code-foreground, var(--jp-content-font-color1, white)));\n",
       "    --sklearn-color-background: var(--sg-background-color, var(--theme-background, var(--jp-layout-color0, #111)));\n",
       "    --sklearn-color-border-box: var(--sg-text-color, var(--theme-code-foreground, var(--jp-content-font-color1, white)));\n",
       "    --sklearn-color-icon: #878787;\n",
       "  }\n",
       "}\n",
       "\n",
       "#sk-container-id-1 {\n",
       "  color: var(--sklearn-color-text);\n",
       "}\n",
       "\n",
       "#sk-container-id-1 pre {\n",
       "  padding: 0;\n",
       "}\n",
       "\n",
       "#sk-container-id-1 input.sk-hidden--visually {\n",
       "  border: 0;\n",
       "  clip: rect(1px 1px 1px 1px);\n",
       "  clip: rect(1px, 1px, 1px, 1px);\n",
       "  height: 1px;\n",
       "  margin: -1px;\n",
       "  overflow: hidden;\n",
       "  padding: 0;\n",
       "  position: absolute;\n",
       "  width: 1px;\n",
       "}\n",
       "\n",
       "#sk-container-id-1 div.sk-dashed-wrapped {\n",
       "  border: 1px dashed var(--sklearn-color-line);\n",
       "  margin: 0 0.4em 0.5em 0.4em;\n",
       "  box-sizing: border-box;\n",
       "  padding-bottom: 0.4em;\n",
       "  background-color: var(--sklearn-color-background);\n",
       "}\n",
       "\n",
       "#sk-container-id-1 div.sk-container {\n",
       "  /* jupyter's `normalize.less` sets `[hidden] { display: none; }`\n",
       "     but bootstrap.min.css set `[hidden] { display: none !important; }`\n",
       "     so we also need the `!important` here to be able to override the\n",
       "     default hidden behavior on the sphinx rendered scikit-learn.org.\n",
       "     See: https://github.com/scikit-learn/scikit-learn/issues/21755 */\n",
       "  display: inline-block !important;\n",
       "  position: relative;\n",
       "}\n",
       "\n",
       "#sk-container-id-1 div.sk-text-repr-fallback {\n",
       "  display: none;\n",
       "}\n",
       "\n",
       "div.sk-parallel-item,\n",
       "div.sk-serial,\n",
       "div.sk-item {\n",
       "  /* draw centered vertical line to link estimators */\n",
       "  background-image: linear-gradient(var(--sklearn-color-text-on-default-background), var(--sklearn-color-text-on-default-background));\n",
       "  background-size: 2px 100%;\n",
       "  background-repeat: no-repeat;\n",
       "  background-position: center center;\n",
       "}\n",
       "\n",
       "/* Parallel-specific style estimator block */\n",
       "\n",
       "#sk-container-id-1 div.sk-parallel-item::after {\n",
       "  content: \"\";\n",
       "  width: 100%;\n",
       "  border-bottom: 2px solid var(--sklearn-color-text-on-default-background);\n",
       "  flex-grow: 1;\n",
       "}\n",
       "\n",
       "#sk-container-id-1 div.sk-parallel {\n",
       "  display: flex;\n",
       "  align-items: stretch;\n",
       "  justify-content: center;\n",
       "  background-color: var(--sklearn-color-background);\n",
       "  position: relative;\n",
       "}\n",
       "\n",
       "#sk-container-id-1 div.sk-parallel-item {\n",
       "  display: flex;\n",
       "  flex-direction: column;\n",
       "}\n",
       "\n",
       "#sk-container-id-1 div.sk-parallel-item:first-child::after {\n",
       "  align-self: flex-end;\n",
       "  width: 50%;\n",
       "}\n",
       "\n",
       "#sk-container-id-1 div.sk-parallel-item:last-child::after {\n",
       "  align-self: flex-start;\n",
       "  width: 50%;\n",
       "}\n",
       "\n",
       "#sk-container-id-1 div.sk-parallel-item:only-child::after {\n",
       "  width: 0;\n",
       "}\n",
       "\n",
       "/* Serial-specific style estimator block */\n",
       "\n",
       "#sk-container-id-1 div.sk-serial {\n",
       "  display: flex;\n",
       "  flex-direction: column;\n",
       "  align-items: center;\n",
       "  background-color: var(--sklearn-color-background);\n",
       "  padding-right: 1em;\n",
       "  padding-left: 1em;\n",
       "}\n",
       "\n",
       "\n",
       "/* Toggleable style: style used for estimator/Pipeline/ColumnTransformer box that is\n",
       "clickable and can be expanded/collapsed.\n",
       "- Pipeline and ColumnTransformer use this feature and define the default style\n",
       "- Estimators will overwrite some part of the style using the `sk-estimator` class\n",
       "*/\n",
       "\n",
       "/* Pipeline and ColumnTransformer style (default) */\n",
       "\n",
       "#sk-container-id-1 div.sk-toggleable {\n",
       "  /* Default theme specific background. It is overwritten whether we have a\n",
       "  specific estimator or a Pipeline/ColumnTransformer */\n",
       "  background-color: var(--sklearn-color-background);\n",
       "}\n",
       "\n",
       "/* Toggleable label */\n",
       "#sk-container-id-1 label.sk-toggleable__label {\n",
       "  cursor: pointer;\n",
       "  display: block;\n",
       "  width: 100%;\n",
       "  margin-bottom: 0;\n",
       "  padding: 0.5em;\n",
       "  box-sizing: border-box;\n",
       "  text-align: center;\n",
       "}\n",
       "\n",
       "#sk-container-id-1 label.sk-toggleable__label-arrow:before {\n",
       "  /* Arrow on the left of the label */\n",
       "  content: \"▸\";\n",
       "  float: left;\n",
       "  margin-right: 0.25em;\n",
       "  color: var(--sklearn-color-icon);\n",
       "}\n",
       "\n",
       "#sk-container-id-1 label.sk-toggleable__label-arrow:hover:before {\n",
       "  color: var(--sklearn-color-text);\n",
       "}\n",
       "\n",
       "/* Toggleable content - dropdown */\n",
       "\n",
       "#sk-container-id-1 div.sk-toggleable__content {\n",
       "  max-height: 0;\n",
       "  max-width: 0;\n",
       "  overflow: hidden;\n",
       "  text-align: left;\n",
       "  /* unfitted */\n",
       "  background-color: var(--sklearn-color-unfitted-level-0);\n",
       "}\n",
       "\n",
       "#sk-container-id-1 div.sk-toggleable__content.fitted {\n",
       "  /* fitted */\n",
       "  background-color: var(--sklearn-color-fitted-level-0);\n",
       "}\n",
       "\n",
       "#sk-container-id-1 div.sk-toggleable__content pre {\n",
       "  margin: 0.2em;\n",
       "  border-radius: 0.25em;\n",
       "  color: var(--sklearn-color-text);\n",
       "  /* unfitted */\n",
       "  background-color: var(--sklearn-color-unfitted-level-0);\n",
       "}\n",
       "\n",
       "#sk-container-id-1 div.sk-toggleable__content.fitted pre {\n",
       "  /* unfitted */\n",
       "  background-color: var(--sklearn-color-fitted-level-0);\n",
       "}\n",
       "\n",
       "#sk-container-id-1 input.sk-toggleable__control:checked~div.sk-toggleable__content {\n",
       "  /* Expand drop-down */\n",
       "  max-height: 200px;\n",
       "  max-width: 100%;\n",
       "  overflow: auto;\n",
       "}\n",
       "\n",
       "#sk-container-id-1 input.sk-toggleable__control:checked~label.sk-toggleable__label-arrow:before {\n",
       "  content: \"▾\";\n",
       "}\n",
       "\n",
       "/* Pipeline/ColumnTransformer-specific style */\n",
       "\n",
       "#sk-container-id-1 div.sk-label input.sk-toggleable__control:checked~label.sk-toggleable__label {\n",
       "  color: var(--sklearn-color-text);\n",
       "  background-color: var(--sklearn-color-unfitted-level-2);\n",
       "}\n",
       "\n",
       "#sk-container-id-1 div.sk-label.fitted input.sk-toggleable__control:checked~label.sk-toggleable__label {\n",
       "  background-color: var(--sklearn-color-fitted-level-2);\n",
       "}\n",
       "\n",
       "/* Estimator-specific style */\n",
       "\n",
       "/* Colorize estimator box */\n",
       "#sk-container-id-1 div.sk-estimator input.sk-toggleable__control:checked~label.sk-toggleable__label {\n",
       "  /* unfitted */\n",
       "  background-color: var(--sklearn-color-unfitted-level-2);\n",
       "}\n",
       "\n",
       "#sk-container-id-1 div.sk-estimator.fitted input.sk-toggleable__control:checked~label.sk-toggleable__label {\n",
       "  /* fitted */\n",
       "  background-color: var(--sklearn-color-fitted-level-2);\n",
       "}\n",
       "\n",
       "#sk-container-id-1 div.sk-label label.sk-toggleable__label,\n",
       "#sk-container-id-1 div.sk-label label {\n",
       "  /* The background is the default theme color */\n",
       "  color: var(--sklearn-color-text-on-default-background);\n",
       "}\n",
       "\n",
       "/* On hover, darken the color of the background */\n",
       "#sk-container-id-1 div.sk-label:hover label.sk-toggleable__label {\n",
       "  color: var(--sklearn-color-text);\n",
       "  background-color: var(--sklearn-color-unfitted-level-2);\n",
       "}\n",
       "\n",
       "/* Label box, darken color on hover, fitted */\n",
       "#sk-container-id-1 div.sk-label.fitted:hover label.sk-toggleable__label.fitted {\n",
       "  color: var(--sklearn-color-text);\n",
       "  background-color: var(--sklearn-color-fitted-level-2);\n",
       "}\n",
       "\n",
       "/* Estimator label */\n",
       "\n",
       "#sk-container-id-1 div.sk-label label {\n",
       "  font-family: monospace;\n",
       "  font-weight: bold;\n",
       "  display: inline-block;\n",
       "  line-height: 1.2em;\n",
       "}\n",
       "\n",
       "#sk-container-id-1 div.sk-label-container {\n",
       "  text-align: center;\n",
       "}\n",
       "\n",
       "/* Estimator-specific */\n",
       "#sk-container-id-1 div.sk-estimator {\n",
       "  font-family: monospace;\n",
       "  border: 1px dotted var(--sklearn-color-border-box);\n",
       "  border-radius: 0.25em;\n",
       "  box-sizing: border-box;\n",
       "  margin-bottom: 0.5em;\n",
       "  /* unfitted */\n",
       "  background-color: var(--sklearn-color-unfitted-level-0);\n",
       "}\n",
       "\n",
       "#sk-container-id-1 div.sk-estimator.fitted {\n",
       "  /* fitted */\n",
       "  background-color: var(--sklearn-color-fitted-level-0);\n",
       "}\n",
       "\n",
       "/* on hover */\n",
       "#sk-container-id-1 div.sk-estimator:hover {\n",
       "  /* unfitted */\n",
       "  background-color: var(--sklearn-color-unfitted-level-2);\n",
       "}\n",
       "\n",
       "#sk-container-id-1 div.sk-estimator.fitted:hover {\n",
       "  /* fitted */\n",
       "  background-color: var(--sklearn-color-fitted-level-2);\n",
       "}\n",
       "\n",
       "/* Specification for estimator info (e.g. \"i\" and \"?\") */\n",
       "\n",
       "/* Common style for \"i\" and \"?\" */\n",
       "\n",
       ".sk-estimator-doc-link,\n",
       "a:link.sk-estimator-doc-link,\n",
       "a:visited.sk-estimator-doc-link {\n",
       "  float: right;\n",
       "  font-size: smaller;\n",
       "  line-height: 1em;\n",
       "  font-family: monospace;\n",
       "  background-color: var(--sklearn-color-background);\n",
       "  border-radius: 1em;\n",
       "  height: 1em;\n",
       "  width: 1em;\n",
       "  text-decoration: none !important;\n",
       "  margin-left: 1ex;\n",
       "  /* unfitted */\n",
       "  border: var(--sklearn-color-unfitted-level-1) 1pt solid;\n",
       "  color: var(--sklearn-color-unfitted-level-1);\n",
       "}\n",
       "\n",
       ".sk-estimator-doc-link.fitted,\n",
       "a:link.sk-estimator-doc-link.fitted,\n",
       "a:visited.sk-estimator-doc-link.fitted {\n",
       "  /* fitted */\n",
       "  border: var(--sklearn-color-fitted-level-1) 1pt solid;\n",
       "  color: var(--sklearn-color-fitted-level-1);\n",
       "}\n",
       "\n",
       "/* On hover */\n",
       "div.sk-estimator:hover .sk-estimator-doc-link:hover,\n",
       ".sk-estimator-doc-link:hover,\n",
       "div.sk-label-container:hover .sk-estimator-doc-link:hover,\n",
       ".sk-estimator-doc-link:hover {\n",
       "  /* unfitted */\n",
       "  background-color: var(--sklearn-color-unfitted-level-3);\n",
       "  color: var(--sklearn-color-background);\n",
       "  text-decoration: none;\n",
       "}\n",
       "\n",
       "div.sk-estimator.fitted:hover .sk-estimator-doc-link.fitted:hover,\n",
       ".sk-estimator-doc-link.fitted:hover,\n",
       "div.sk-label-container:hover .sk-estimator-doc-link.fitted:hover,\n",
       ".sk-estimator-doc-link.fitted:hover {\n",
       "  /* fitted */\n",
       "  background-color: var(--sklearn-color-fitted-level-3);\n",
       "  color: var(--sklearn-color-background);\n",
       "  text-decoration: none;\n",
       "}\n",
       "\n",
       "/* Span, style for the box shown on hovering the info icon */\n",
       ".sk-estimator-doc-link span {\n",
       "  display: none;\n",
       "  z-index: 9999;\n",
       "  position: relative;\n",
       "  font-weight: normal;\n",
       "  right: .2ex;\n",
       "  padding: .5ex;\n",
       "  margin: .5ex;\n",
       "  width: min-content;\n",
       "  min-width: 20ex;\n",
       "  max-width: 50ex;\n",
       "  color: var(--sklearn-color-text);\n",
       "  box-shadow: 2pt 2pt 4pt #999;\n",
       "  /* unfitted */\n",
       "  background: var(--sklearn-color-unfitted-level-0);\n",
       "  border: .5pt solid var(--sklearn-color-unfitted-level-3);\n",
       "}\n",
       "\n",
       ".sk-estimator-doc-link.fitted span {\n",
       "  /* fitted */\n",
       "  background: var(--sklearn-color-fitted-level-0);\n",
       "  border: var(--sklearn-color-fitted-level-3);\n",
       "}\n",
       "\n",
       ".sk-estimator-doc-link:hover span {\n",
       "  display: block;\n",
       "}\n",
       "\n",
       "/* \"?\"-specific style due to the `<a>` HTML tag */\n",
       "\n",
       "#sk-container-id-1 a.estimator_doc_link {\n",
       "  float: right;\n",
       "  font-size: 1rem;\n",
       "  line-height: 1em;\n",
       "  font-family: monospace;\n",
       "  background-color: var(--sklearn-color-background);\n",
       "  border-radius: 1rem;\n",
       "  height: 1rem;\n",
       "  width: 1rem;\n",
       "  text-decoration: none;\n",
       "  /* unfitted */\n",
       "  color: var(--sklearn-color-unfitted-level-1);\n",
       "  border: var(--sklearn-color-unfitted-level-1) 1pt solid;\n",
       "}\n",
       "\n",
       "#sk-container-id-1 a.estimator_doc_link.fitted {\n",
       "  /* fitted */\n",
       "  border: var(--sklearn-color-fitted-level-1) 1pt solid;\n",
       "  color: var(--sklearn-color-fitted-level-1);\n",
       "}\n",
       "\n",
       "/* On hover */\n",
       "#sk-container-id-1 a.estimator_doc_link:hover {\n",
       "  /* unfitted */\n",
       "  background-color: var(--sklearn-color-unfitted-level-3);\n",
       "  color: var(--sklearn-color-background);\n",
       "  text-decoration: none;\n",
       "}\n",
       "\n",
       "#sk-container-id-1 a.estimator_doc_link.fitted:hover {\n",
       "  /* fitted */\n",
       "  background-color: var(--sklearn-color-fitted-level-3);\n",
       "}\n",
       "</style><div id=\"sk-container-id-1\" class=\"sk-top-container\"><div class=\"sk-text-repr-fallback\"><pre>DecisionTreeRegressor()</pre><b>In a Jupyter environment, please rerun this cell to show the HTML representation or trust the notebook. <br />On GitHub, the HTML representation is unable to render, please try loading this page with nbviewer.org.</b></div><div class=\"sk-container\" hidden><div class=\"sk-item\"><div class=\"sk-estimator fitted sk-toggleable\"><input class=\"sk-toggleable__control sk-hidden--visually\" id=\"sk-estimator-id-1\" type=\"checkbox\" checked><label for=\"sk-estimator-id-1\" class=\"sk-toggleable__label fitted sk-toggleable__label-arrow fitted\">&nbsp;&nbsp;DecisionTreeRegressor<a class=\"sk-estimator-doc-link fitted\" rel=\"noreferrer\" target=\"_blank\" href=\"https://scikit-learn.org/1.4/modules/generated/sklearn.tree.DecisionTreeRegressor.html\">?<span>Documentation for DecisionTreeRegressor</span></a><span class=\"sk-estimator-doc-link fitted\">i<span>Fitted</span></span></label><div class=\"sk-toggleable__content fitted\"><pre>DecisionTreeRegressor()</pre></div> </div></div></div></div>"
      ],
      "text/plain": [
       "DecisionTreeRegressor()"
      ]
     },
     "execution_count": 100,
     "metadata": {},
     "output_type": "execute_result"
    }
   ],
   "source": [
    "dtree.fit(X_train,y_train)"
   ]
  },
  {
   "cell_type": "code",
   "execution_count": 101,
   "id": "f3a8abd5-b3f7-45b1-a5af-34a28e2c9739",
   "metadata": {
    "tags": []
   },
   "outputs": [],
   "source": [
    "pred_dtree = dtree.predict(X_test)"
   ]
  },
  {
   "cell_type": "code",
   "execution_count": 203,
   "id": "09b96ea0-6dba-4fe8-a6f9-120b039624e4",
   "metadata": {
    "tags": []
   },
   "outputs": [
    {
     "name": "stdout",
     "output_type": "stream",
     "text": [
      "MAE: 0.5244263365222994\n",
      "MSE: 0.6036114001097268\n",
      "RMSE: 0.7769243207093769\n",
      "R2: 0.49050713596117557\n"
     ]
    }
   ],
   "source": [
    "print('MAE:', metrics.mean_absolute_error(y_test, pred_dtree))\n",
    "print('MSE:', metrics.mean_squared_error(y_test, pred_dtree))\n",
    "print('RMSE:', np.sqrt(metrics.mean_squared_error(y_test, pred_dtree)))\n",
    "print('R2:', metrics.r2_score(y_test, pred_dtree))"
   ]
  },
  {
   "cell_type": "markdown",
   "id": "303e1c17-b41d-4fe7-8bc5-b0174a7e9c61",
   "metadata": {},
   "source": [
    "## Training the Random Forest model"
   ]
  },
  {
   "cell_type": "code",
   "execution_count": 104,
   "id": "39278b1a-363b-48fd-9219-7859cfae0aa6",
   "metadata": {
    "tags": []
   },
   "outputs": [],
   "source": [
    "rfr = RandomForestRegressor()"
   ]
  },
  {
   "cell_type": "code",
   "execution_count": 105,
   "id": "22a04613-2782-4d0f-a8bf-1130af51c8b3",
   "metadata": {
    "tags": []
   },
   "outputs": [
    {
     "data": {
      "text/html": [
       "<style>#sk-container-id-2 {\n",
       "  /* Definition of color scheme common for light and dark mode */\n",
       "  --sklearn-color-text: black;\n",
       "  --sklearn-color-line: gray;\n",
       "  /* Definition of color scheme for unfitted estimators */\n",
       "  --sklearn-color-unfitted-level-0: #fff5e6;\n",
       "  --sklearn-color-unfitted-level-1: #f6e4d2;\n",
       "  --sklearn-color-unfitted-level-2: #ffe0b3;\n",
       "  --sklearn-color-unfitted-level-3: chocolate;\n",
       "  /* Definition of color scheme for fitted estimators */\n",
       "  --sklearn-color-fitted-level-0: #f0f8ff;\n",
       "  --sklearn-color-fitted-level-1: #d4ebff;\n",
       "  --sklearn-color-fitted-level-2: #b3dbfd;\n",
       "  --sklearn-color-fitted-level-3: cornflowerblue;\n",
       "\n",
       "  /* Specific color for light theme */\n",
       "  --sklearn-color-text-on-default-background: var(--sg-text-color, var(--theme-code-foreground, var(--jp-content-font-color1, black)));\n",
       "  --sklearn-color-background: var(--sg-background-color, var(--theme-background, var(--jp-layout-color0, white)));\n",
       "  --sklearn-color-border-box: var(--sg-text-color, var(--theme-code-foreground, var(--jp-content-font-color1, black)));\n",
       "  --sklearn-color-icon: #696969;\n",
       "\n",
       "  @media (prefers-color-scheme: dark) {\n",
       "    /* Redefinition of color scheme for dark theme */\n",
       "    --sklearn-color-text-on-default-background: var(--sg-text-color, var(--theme-code-foreground, var(--jp-content-font-color1, white)));\n",
       "    --sklearn-color-background: var(--sg-background-color, var(--theme-background, var(--jp-layout-color0, #111)));\n",
       "    --sklearn-color-border-box: var(--sg-text-color, var(--theme-code-foreground, var(--jp-content-font-color1, white)));\n",
       "    --sklearn-color-icon: #878787;\n",
       "  }\n",
       "}\n",
       "\n",
       "#sk-container-id-2 {\n",
       "  color: var(--sklearn-color-text);\n",
       "}\n",
       "\n",
       "#sk-container-id-2 pre {\n",
       "  padding: 0;\n",
       "}\n",
       "\n",
       "#sk-container-id-2 input.sk-hidden--visually {\n",
       "  border: 0;\n",
       "  clip: rect(1px 1px 1px 1px);\n",
       "  clip: rect(1px, 1px, 1px, 1px);\n",
       "  height: 1px;\n",
       "  margin: -1px;\n",
       "  overflow: hidden;\n",
       "  padding: 0;\n",
       "  position: absolute;\n",
       "  width: 1px;\n",
       "}\n",
       "\n",
       "#sk-container-id-2 div.sk-dashed-wrapped {\n",
       "  border: 1px dashed var(--sklearn-color-line);\n",
       "  margin: 0 0.4em 0.5em 0.4em;\n",
       "  box-sizing: border-box;\n",
       "  padding-bottom: 0.4em;\n",
       "  background-color: var(--sklearn-color-background);\n",
       "}\n",
       "\n",
       "#sk-container-id-2 div.sk-container {\n",
       "  /* jupyter's `normalize.less` sets `[hidden] { display: none; }`\n",
       "     but bootstrap.min.css set `[hidden] { display: none !important; }`\n",
       "     so we also need the `!important` here to be able to override the\n",
       "     default hidden behavior on the sphinx rendered scikit-learn.org.\n",
       "     See: https://github.com/scikit-learn/scikit-learn/issues/21755 */\n",
       "  display: inline-block !important;\n",
       "  position: relative;\n",
       "}\n",
       "\n",
       "#sk-container-id-2 div.sk-text-repr-fallback {\n",
       "  display: none;\n",
       "}\n",
       "\n",
       "div.sk-parallel-item,\n",
       "div.sk-serial,\n",
       "div.sk-item {\n",
       "  /* draw centered vertical line to link estimators */\n",
       "  background-image: linear-gradient(var(--sklearn-color-text-on-default-background), var(--sklearn-color-text-on-default-background));\n",
       "  background-size: 2px 100%;\n",
       "  background-repeat: no-repeat;\n",
       "  background-position: center center;\n",
       "}\n",
       "\n",
       "/* Parallel-specific style estimator block */\n",
       "\n",
       "#sk-container-id-2 div.sk-parallel-item::after {\n",
       "  content: \"\";\n",
       "  width: 100%;\n",
       "  border-bottom: 2px solid var(--sklearn-color-text-on-default-background);\n",
       "  flex-grow: 1;\n",
       "}\n",
       "\n",
       "#sk-container-id-2 div.sk-parallel {\n",
       "  display: flex;\n",
       "  align-items: stretch;\n",
       "  justify-content: center;\n",
       "  background-color: var(--sklearn-color-background);\n",
       "  position: relative;\n",
       "}\n",
       "\n",
       "#sk-container-id-2 div.sk-parallel-item {\n",
       "  display: flex;\n",
       "  flex-direction: column;\n",
       "}\n",
       "\n",
       "#sk-container-id-2 div.sk-parallel-item:first-child::after {\n",
       "  align-self: flex-end;\n",
       "  width: 50%;\n",
       "}\n",
       "\n",
       "#sk-container-id-2 div.sk-parallel-item:last-child::after {\n",
       "  align-self: flex-start;\n",
       "  width: 50%;\n",
       "}\n",
       "\n",
       "#sk-container-id-2 div.sk-parallel-item:only-child::after {\n",
       "  width: 0;\n",
       "}\n",
       "\n",
       "/* Serial-specific style estimator block */\n",
       "\n",
       "#sk-container-id-2 div.sk-serial {\n",
       "  display: flex;\n",
       "  flex-direction: column;\n",
       "  align-items: center;\n",
       "  background-color: var(--sklearn-color-background);\n",
       "  padding-right: 1em;\n",
       "  padding-left: 1em;\n",
       "}\n",
       "\n",
       "\n",
       "/* Toggleable style: style used for estimator/Pipeline/ColumnTransformer box that is\n",
       "clickable and can be expanded/collapsed.\n",
       "- Pipeline and ColumnTransformer use this feature and define the default style\n",
       "- Estimators will overwrite some part of the style using the `sk-estimator` class\n",
       "*/\n",
       "\n",
       "/* Pipeline and ColumnTransformer style (default) */\n",
       "\n",
       "#sk-container-id-2 div.sk-toggleable {\n",
       "  /* Default theme specific background. It is overwritten whether we have a\n",
       "  specific estimator or a Pipeline/ColumnTransformer */\n",
       "  background-color: var(--sklearn-color-background);\n",
       "}\n",
       "\n",
       "/* Toggleable label */\n",
       "#sk-container-id-2 label.sk-toggleable__label {\n",
       "  cursor: pointer;\n",
       "  display: block;\n",
       "  width: 100%;\n",
       "  margin-bottom: 0;\n",
       "  padding: 0.5em;\n",
       "  box-sizing: border-box;\n",
       "  text-align: center;\n",
       "}\n",
       "\n",
       "#sk-container-id-2 label.sk-toggleable__label-arrow:before {\n",
       "  /* Arrow on the left of the label */\n",
       "  content: \"▸\";\n",
       "  float: left;\n",
       "  margin-right: 0.25em;\n",
       "  color: var(--sklearn-color-icon);\n",
       "}\n",
       "\n",
       "#sk-container-id-2 label.sk-toggleable__label-arrow:hover:before {\n",
       "  color: var(--sklearn-color-text);\n",
       "}\n",
       "\n",
       "/* Toggleable content - dropdown */\n",
       "\n",
       "#sk-container-id-2 div.sk-toggleable__content {\n",
       "  max-height: 0;\n",
       "  max-width: 0;\n",
       "  overflow: hidden;\n",
       "  text-align: left;\n",
       "  /* unfitted */\n",
       "  background-color: var(--sklearn-color-unfitted-level-0);\n",
       "}\n",
       "\n",
       "#sk-container-id-2 div.sk-toggleable__content.fitted {\n",
       "  /* fitted */\n",
       "  background-color: var(--sklearn-color-fitted-level-0);\n",
       "}\n",
       "\n",
       "#sk-container-id-2 div.sk-toggleable__content pre {\n",
       "  margin: 0.2em;\n",
       "  border-radius: 0.25em;\n",
       "  color: var(--sklearn-color-text);\n",
       "  /* unfitted */\n",
       "  background-color: var(--sklearn-color-unfitted-level-0);\n",
       "}\n",
       "\n",
       "#sk-container-id-2 div.sk-toggleable__content.fitted pre {\n",
       "  /* unfitted */\n",
       "  background-color: var(--sklearn-color-fitted-level-0);\n",
       "}\n",
       "\n",
       "#sk-container-id-2 input.sk-toggleable__control:checked~div.sk-toggleable__content {\n",
       "  /* Expand drop-down */\n",
       "  max-height: 200px;\n",
       "  max-width: 100%;\n",
       "  overflow: auto;\n",
       "}\n",
       "\n",
       "#sk-container-id-2 input.sk-toggleable__control:checked~label.sk-toggleable__label-arrow:before {\n",
       "  content: \"▾\";\n",
       "}\n",
       "\n",
       "/* Pipeline/ColumnTransformer-specific style */\n",
       "\n",
       "#sk-container-id-2 div.sk-label input.sk-toggleable__control:checked~label.sk-toggleable__label {\n",
       "  color: var(--sklearn-color-text);\n",
       "  background-color: var(--sklearn-color-unfitted-level-2);\n",
       "}\n",
       "\n",
       "#sk-container-id-2 div.sk-label.fitted input.sk-toggleable__control:checked~label.sk-toggleable__label {\n",
       "  background-color: var(--sklearn-color-fitted-level-2);\n",
       "}\n",
       "\n",
       "/* Estimator-specific style */\n",
       "\n",
       "/* Colorize estimator box */\n",
       "#sk-container-id-2 div.sk-estimator input.sk-toggleable__control:checked~label.sk-toggleable__label {\n",
       "  /* unfitted */\n",
       "  background-color: var(--sklearn-color-unfitted-level-2);\n",
       "}\n",
       "\n",
       "#sk-container-id-2 div.sk-estimator.fitted input.sk-toggleable__control:checked~label.sk-toggleable__label {\n",
       "  /* fitted */\n",
       "  background-color: var(--sklearn-color-fitted-level-2);\n",
       "}\n",
       "\n",
       "#sk-container-id-2 div.sk-label label.sk-toggleable__label,\n",
       "#sk-container-id-2 div.sk-label label {\n",
       "  /* The background is the default theme color */\n",
       "  color: var(--sklearn-color-text-on-default-background);\n",
       "}\n",
       "\n",
       "/* On hover, darken the color of the background */\n",
       "#sk-container-id-2 div.sk-label:hover label.sk-toggleable__label {\n",
       "  color: var(--sklearn-color-text);\n",
       "  background-color: var(--sklearn-color-unfitted-level-2);\n",
       "}\n",
       "\n",
       "/* Label box, darken color on hover, fitted */\n",
       "#sk-container-id-2 div.sk-label.fitted:hover label.sk-toggleable__label.fitted {\n",
       "  color: var(--sklearn-color-text);\n",
       "  background-color: var(--sklearn-color-fitted-level-2);\n",
       "}\n",
       "\n",
       "/* Estimator label */\n",
       "\n",
       "#sk-container-id-2 div.sk-label label {\n",
       "  font-family: monospace;\n",
       "  font-weight: bold;\n",
       "  display: inline-block;\n",
       "  line-height: 1.2em;\n",
       "}\n",
       "\n",
       "#sk-container-id-2 div.sk-label-container {\n",
       "  text-align: center;\n",
       "}\n",
       "\n",
       "/* Estimator-specific */\n",
       "#sk-container-id-2 div.sk-estimator {\n",
       "  font-family: monospace;\n",
       "  border: 1px dotted var(--sklearn-color-border-box);\n",
       "  border-radius: 0.25em;\n",
       "  box-sizing: border-box;\n",
       "  margin-bottom: 0.5em;\n",
       "  /* unfitted */\n",
       "  background-color: var(--sklearn-color-unfitted-level-0);\n",
       "}\n",
       "\n",
       "#sk-container-id-2 div.sk-estimator.fitted {\n",
       "  /* fitted */\n",
       "  background-color: var(--sklearn-color-fitted-level-0);\n",
       "}\n",
       "\n",
       "/* on hover */\n",
       "#sk-container-id-2 div.sk-estimator:hover {\n",
       "  /* unfitted */\n",
       "  background-color: var(--sklearn-color-unfitted-level-2);\n",
       "}\n",
       "\n",
       "#sk-container-id-2 div.sk-estimator.fitted:hover {\n",
       "  /* fitted */\n",
       "  background-color: var(--sklearn-color-fitted-level-2);\n",
       "}\n",
       "\n",
       "/* Specification for estimator info (e.g. \"i\" and \"?\") */\n",
       "\n",
       "/* Common style for \"i\" and \"?\" */\n",
       "\n",
       ".sk-estimator-doc-link,\n",
       "a:link.sk-estimator-doc-link,\n",
       "a:visited.sk-estimator-doc-link {\n",
       "  float: right;\n",
       "  font-size: smaller;\n",
       "  line-height: 1em;\n",
       "  font-family: monospace;\n",
       "  background-color: var(--sklearn-color-background);\n",
       "  border-radius: 1em;\n",
       "  height: 1em;\n",
       "  width: 1em;\n",
       "  text-decoration: none !important;\n",
       "  margin-left: 1ex;\n",
       "  /* unfitted */\n",
       "  border: var(--sklearn-color-unfitted-level-1) 1pt solid;\n",
       "  color: var(--sklearn-color-unfitted-level-1);\n",
       "}\n",
       "\n",
       ".sk-estimator-doc-link.fitted,\n",
       "a:link.sk-estimator-doc-link.fitted,\n",
       "a:visited.sk-estimator-doc-link.fitted {\n",
       "  /* fitted */\n",
       "  border: var(--sklearn-color-fitted-level-1) 1pt solid;\n",
       "  color: var(--sklearn-color-fitted-level-1);\n",
       "}\n",
       "\n",
       "/* On hover */\n",
       "div.sk-estimator:hover .sk-estimator-doc-link:hover,\n",
       ".sk-estimator-doc-link:hover,\n",
       "div.sk-label-container:hover .sk-estimator-doc-link:hover,\n",
       ".sk-estimator-doc-link:hover {\n",
       "  /* unfitted */\n",
       "  background-color: var(--sklearn-color-unfitted-level-3);\n",
       "  color: var(--sklearn-color-background);\n",
       "  text-decoration: none;\n",
       "}\n",
       "\n",
       "div.sk-estimator.fitted:hover .sk-estimator-doc-link.fitted:hover,\n",
       ".sk-estimator-doc-link.fitted:hover,\n",
       "div.sk-label-container:hover .sk-estimator-doc-link.fitted:hover,\n",
       ".sk-estimator-doc-link.fitted:hover {\n",
       "  /* fitted */\n",
       "  background-color: var(--sklearn-color-fitted-level-3);\n",
       "  color: var(--sklearn-color-background);\n",
       "  text-decoration: none;\n",
       "}\n",
       "\n",
       "/* Span, style for the box shown on hovering the info icon */\n",
       ".sk-estimator-doc-link span {\n",
       "  display: none;\n",
       "  z-index: 9999;\n",
       "  position: relative;\n",
       "  font-weight: normal;\n",
       "  right: .2ex;\n",
       "  padding: .5ex;\n",
       "  margin: .5ex;\n",
       "  width: min-content;\n",
       "  min-width: 20ex;\n",
       "  max-width: 50ex;\n",
       "  color: var(--sklearn-color-text);\n",
       "  box-shadow: 2pt 2pt 4pt #999;\n",
       "  /* unfitted */\n",
       "  background: var(--sklearn-color-unfitted-level-0);\n",
       "  border: .5pt solid var(--sklearn-color-unfitted-level-3);\n",
       "}\n",
       "\n",
       ".sk-estimator-doc-link.fitted span {\n",
       "  /* fitted */\n",
       "  background: var(--sklearn-color-fitted-level-0);\n",
       "  border: var(--sklearn-color-fitted-level-3);\n",
       "}\n",
       "\n",
       ".sk-estimator-doc-link:hover span {\n",
       "  display: block;\n",
       "}\n",
       "\n",
       "/* \"?\"-specific style due to the `<a>` HTML tag */\n",
       "\n",
       "#sk-container-id-2 a.estimator_doc_link {\n",
       "  float: right;\n",
       "  font-size: 1rem;\n",
       "  line-height: 1em;\n",
       "  font-family: monospace;\n",
       "  background-color: var(--sklearn-color-background);\n",
       "  border-radius: 1rem;\n",
       "  height: 1rem;\n",
       "  width: 1rem;\n",
       "  text-decoration: none;\n",
       "  /* unfitted */\n",
       "  color: var(--sklearn-color-unfitted-level-1);\n",
       "  border: var(--sklearn-color-unfitted-level-1) 1pt solid;\n",
       "}\n",
       "\n",
       "#sk-container-id-2 a.estimator_doc_link.fitted {\n",
       "  /* fitted */\n",
       "  border: var(--sklearn-color-fitted-level-1) 1pt solid;\n",
       "  color: var(--sklearn-color-fitted-level-1);\n",
       "}\n",
       "\n",
       "/* On hover */\n",
       "#sk-container-id-2 a.estimator_doc_link:hover {\n",
       "  /* unfitted */\n",
       "  background-color: var(--sklearn-color-unfitted-level-3);\n",
       "  color: var(--sklearn-color-background);\n",
       "  text-decoration: none;\n",
       "}\n",
       "\n",
       "#sk-container-id-2 a.estimator_doc_link.fitted:hover {\n",
       "  /* fitted */\n",
       "  background-color: var(--sklearn-color-fitted-level-3);\n",
       "}\n",
       "</style><div id=\"sk-container-id-2\" class=\"sk-top-container\"><div class=\"sk-text-repr-fallback\"><pre>RandomForestRegressor()</pre><b>In a Jupyter environment, please rerun this cell to show the HTML representation or trust the notebook. <br />On GitHub, the HTML representation is unable to render, please try loading this page with nbviewer.org.</b></div><div class=\"sk-container\" hidden><div class=\"sk-item\"><div class=\"sk-estimator fitted sk-toggleable\"><input class=\"sk-toggleable__control sk-hidden--visually\" id=\"sk-estimator-id-2\" type=\"checkbox\" checked><label for=\"sk-estimator-id-2\" class=\"sk-toggleable__label fitted sk-toggleable__label-arrow fitted\">&nbsp;&nbsp;RandomForestRegressor<a class=\"sk-estimator-doc-link fitted\" rel=\"noreferrer\" target=\"_blank\" href=\"https://scikit-learn.org/1.4/modules/generated/sklearn.ensemble.RandomForestRegressor.html\">?<span>Documentation for RandomForestRegressor</span></a><span class=\"sk-estimator-doc-link fitted\">i<span>Fitted</span></span></label><div class=\"sk-toggleable__content fitted\"><pre>RandomForestRegressor()</pre></div> </div></div></div></div>"
      ],
      "text/plain": [
       "RandomForestRegressor()"
      ]
     },
     "execution_count": 105,
     "metadata": {},
     "output_type": "execute_result"
    }
   ],
   "source": [
    "rfr.fit(X_train,y_train)"
   ]
  },
  {
   "cell_type": "code",
   "execution_count": 106,
   "id": "c721b6ae-4838-4125-b8e1-fb5fc38643b8",
   "metadata": {
    "tags": []
   },
   "outputs": [],
   "source": [
    "pred_rfr = rfr.predict(X_test)"
   ]
  },
  {
   "cell_type": "code",
   "execution_count": 201,
   "id": "a4e92670-b9f6-4b21-b765-2a2c7afc8944",
   "metadata": {
    "tags": []
   },
   "outputs": [
    {
     "name": "stdout",
     "output_type": "stream",
     "text": [
      "MAE: 0.39470435529605546\n",
      "MSE: 0.30301686080974255\n",
      "RMSE: 0.550469672924624\n",
      "R2: 0.7442312583262263\n"
     ]
    }
   ],
   "source": [
    "print('MAE:', metrics.mean_absolute_error(y_test, pred_rfr))\n",
    "print('MSE:', metrics.mean_squared_error(y_test, pred_rfr))\n",
    "print('RMSE:', np.sqrt(metrics.mean_squared_error(y_test, pred_rfr)))\n",
    "print('R2:', metrics.r2_score(y_test, pred_rfr))"
   ]
  },
  {
   "cell_type": "markdown",
   "id": "10666050-bb75-4875-968f-4e54f675c3ef",
   "metadata": {},
   "source": [
    "## Training the XGBoost"
   ]
  },
  {
   "cell_type": "code",
   "execution_count": 109,
   "id": "c2f1a8a3-21ee-4bcb-8e89-4cc3b035406c",
   "metadata": {
    "tags": []
   },
   "outputs": [],
   "source": [
    "xg = XGBRegressor()"
   ]
  },
  {
   "cell_type": "code",
   "execution_count": 110,
   "id": "1c2a8b05-14e3-4686-807e-80ca77c3b433",
   "metadata": {
    "tags": []
   },
   "outputs": [
    {
     "data": {
      "text/html": [
       "<style>#sk-container-id-3 {\n",
       "  /* Definition of color scheme common for light and dark mode */\n",
       "  --sklearn-color-text: black;\n",
       "  --sklearn-color-line: gray;\n",
       "  /* Definition of color scheme for unfitted estimators */\n",
       "  --sklearn-color-unfitted-level-0: #fff5e6;\n",
       "  --sklearn-color-unfitted-level-1: #f6e4d2;\n",
       "  --sklearn-color-unfitted-level-2: #ffe0b3;\n",
       "  --sklearn-color-unfitted-level-3: chocolate;\n",
       "  /* Definition of color scheme for fitted estimators */\n",
       "  --sklearn-color-fitted-level-0: #f0f8ff;\n",
       "  --sklearn-color-fitted-level-1: #d4ebff;\n",
       "  --sklearn-color-fitted-level-2: #b3dbfd;\n",
       "  --sklearn-color-fitted-level-3: cornflowerblue;\n",
       "\n",
       "  /* Specific color for light theme */\n",
       "  --sklearn-color-text-on-default-background: var(--sg-text-color, var(--theme-code-foreground, var(--jp-content-font-color1, black)));\n",
       "  --sklearn-color-background: var(--sg-background-color, var(--theme-background, var(--jp-layout-color0, white)));\n",
       "  --sklearn-color-border-box: var(--sg-text-color, var(--theme-code-foreground, var(--jp-content-font-color1, black)));\n",
       "  --sklearn-color-icon: #696969;\n",
       "\n",
       "  @media (prefers-color-scheme: dark) {\n",
       "    /* Redefinition of color scheme for dark theme */\n",
       "    --sklearn-color-text-on-default-background: var(--sg-text-color, var(--theme-code-foreground, var(--jp-content-font-color1, white)));\n",
       "    --sklearn-color-background: var(--sg-background-color, var(--theme-background, var(--jp-layout-color0, #111)));\n",
       "    --sklearn-color-border-box: var(--sg-text-color, var(--theme-code-foreground, var(--jp-content-font-color1, white)));\n",
       "    --sklearn-color-icon: #878787;\n",
       "  }\n",
       "}\n",
       "\n",
       "#sk-container-id-3 {\n",
       "  color: var(--sklearn-color-text);\n",
       "}\n",
       "\n",
       "#sk-container-id-3 pre {\n",
       "  padding: 0;\n",
       "}\n",
       "\n",
       "#sk-container-id-3 input.sk-hidden--visually {\n",
       "  border: 0;\n",
       "  clip: rect(1px 1px 1px 1px);\n",
       "  clip: rect(1px, 1px, 1px, 1px);\n",
       "  height: 1px;\n",
       "  margin: -1px;\n",
       "  overflow: hidden;\n",
       "  padding: 0;\n",
       "  position: absolute;\n",
       "  width: 1px;\n",
       "}\n",
       "\n",
       "#sk-container-id-3 div.sk-dashed-wrapped {\n",
       "  border: 1px dashed var(--sklearn-color-line);\n",
       "  margin: 0 0.4em 0.5em 0.4em;\n",
       "  box-sizing: border-box;\n",
       "  padding-bottom: 0.4em;\n",
       "  background-color: var(--sklearn-color-background);\n",
       "}\n",
       "\n",
       "#sk-container-id-3 div.sk-container {\n",
       "  /* jupyter's `normalize.less` sets `[hidden] { display: none; }`\n",
       "     but bootstrap.min.css set `[hidden] { display: none !important; }`\n",
       "     so we also need the `!important` here to be able to override the\n",
       "     default hidden behavior on the sphinx rendered scikit-learn.org.\n",
       "     See: https://github.com/scikit-learn/scikit-learn/issues/21755 */\n",
       "  display: inline-block !important;\n",
       "  position: relative;\n",
       "}\n",
       "\n",
       "#sk-container-id-3 div.sk-text-repr-fallback {\n",
       "  display: none;\n",
       "}\n",
       "\n",
       "div.sk-parallel-item,\n",
       "div.sk-serial,\n",
       "div.sk-item {\n",
       "  /* draw centered vertical line to link estimators */\n",
       "  background-image: linear-gradient(var(--sklearn-color-text-on-default-background), var(--sklearn-color-text-on-default-background));\n",
       "  background-size: 2px 100%;\n",
       "  background-repeat: no-repeat;\n",
       "  background-position: center center;\n",
       "}\n",
       "\n",
       "/* Parallel-specific style estimator block */\n",
       "\n",
       "#sk-container-id-3 div.sk-parallel-item::after {\n",
       "  content: \"\";\n",
       "  width: 100%;\n",
       "  border-bottom: 2px solid var(--sklearn-color-text-on-default-background);\n",
       "  flex-grow: 1;\n",
       "}\n",
       "\n",
       "#sk-container-id-3 div.sk-parallel {\n",
       "  display: flex;\n",
       "  align-items: stretch;\n",
       "  justify-content: center;\n",
       "  background-color: var(--sklearn-color-background);\n",
       "  position: relative;\n",
       "}\n",
       "\n",
       "#sk-container-id-3 div.sk-parallel-item {\n",
       "  display: flex;\n",
       "  flex-direction: column;\n",
       "}\n",
       "\n",
       "#sk-container-id-3 div.sk-parallel-item:first-child::after {\n",
       "  align-self: flex-end;\n",
       "  width: 50%;\n",
       "}\n",
       "\n",
       "#sk-container-id-3 div.sk-parallel-item:last-child::after {\n",
       "  align-self: flex-start;\n",
       "  width: 50%;\n",
       "}\n",
       "\n",
       "#sk-container-id-3 div.sk-parallel-item:only-child::after {\n",
       "  width: 0;\n",
       "}\n",
       "\n",
       "/* Serial-specific style estimator block */\n",
       "\n",
       "#sk-container-id-3 div.sk-serial {\n",
       "  display: flex;\n",
       "  flex-direction: column;\n",
       "  align-items: center;\n",
       "  background-color: var(--sklearn-color-background);\n",
       "  padding-right: 1em;\n",
       "  padding-left: 1em;\n",
       "}\n",
       "\n",
       "\n",
       "/* Toggleable style: style used for estimator/Pipeline/ColumnTransformer box that is\n",
       "clickable and can be expanded/collapsed.\n",
       "- Pipeline and ColumnTransformer use this feature and define the default style\n",
       "- Estimators will overwrite some part of the style using the `sk-estimator` class\n",
       "*/\n",
       "\n",
       "/* Pipeline and ColumnTransformer style (default) */\n",
       "\n",
       "#sk-container-id-3 div.sk-toggleable {\n",
       "  /* Default theme specific background. It is overwritten whether we have a\n",
       "  specific estimator or a Pipeline/ColumnTransformer */\n",
       "  background-color: var(--sklearn-color-background);\n",
       "}\n",
       "\n",
       "/* Toggleable label */\n",
       "#sk-container-id-3 label.sk-toggleable__label {\n",
       "  cursor: pointer;\n",
       "  display: block;\n",
       "  width: 100%;\n",
       "  margin-bottom: 0;\n",
       "  padding: 0.5em;\n",
       "  box-sizing: border-box;\n",
       "  text-align: center;\n",
       "}\n",
       "\n",
       "#sk-container-id-3 label.sk-toggleable__label-arrow:before {\n",
       "  /* Arrow on the left of the label */\n",
       "  content: \"▸\";\n",
       "  float: left;\n",
       "  margin-right: 0.25em;\n",
       "  color: var(--sklearn-color-icon);\n",
       "}\n",
       "\n",
       "#sk-container-id-3 label.sk-toggleable__label-arrow:hover:before {\n",
       "  color: var(--sklearn-color-text);\n",
       "}\n",
       "\n",
       "/* Toggleable content - dropdown */\n",
       "\n",
       "#sk-container-id-3 div.sk-toggleable__content {\n",
       "  max-height: 0;\n",
       "  max-width: 0;\n",
       "  overflow: hidden;\n",
       "  text-align: left;\n",
       "  /* unfitted */\n",
       "  background-color: var(--sklearn-color-unfitted-level-0);\n",
       "}\n",
       "\n",
       "#sk-container-id-3 div.sk-toggleable__content.fitted {\n",
       "  /* fitted */\n",
       "  background-color: var(--sklearn-color-fitted-level-0);\n",
       "}\n",
       "\n",
       "#sk-container-id-3 div.sk-toggleable__content pre {\n",
       "  margin: 0.2em;\n",
       "  border-radius: 0.25em;\n",
       "  color: var(--sklearn-color-text);\n",
       "  /* unfitted */\n",
       "  background-color: var(--sklearn-color-unfitted-level-0);\n",
       "}\n",
       "\n",
       "#sk-container-id-3 div.sk-toggleable__content.fitted pre {\n",
       "  /* unfitted */\n",
       "  background-color: var(--sklearn-color-fitted-level-0);\n",
       "}\n",
       "\n",
       "#sk-container-id-3 input.sk-toggleable__control:checked~div.sk-toggleable__content {\n",
       "  /* Expand drop-down */\n",
       "  max-height: 200px;\n",
       "  max-width: 100%;\n",
       "  overflow: auto;\n",
       "}\n",
       "\n",
       "#sk-container-id-3 input.sk-toggleable__control:checked~label.sk-toggleable__label-arrow:before {\n",
       "  content: \"▾\";\n",
       "}\n",
       "\n",
       "/* Pipeline/ColumnTransformer-specific style */\n",
       "\n",
       "#sk-container-id-3 div.sk-label input.sk-toggleable__control:checked~label.sk-toggleable__label {\n",
       "  color: var(--sklearn-color-text);\n",
       "  background-color: var(--sklearn-color-unfitted-level-2);\n",
       "}\n",
       "\n",
       "#sk-container-id-3 div.sk-label.fitted input.sk-toggleable__control:checked~label.sk-toggleable__label {\n",
       "  background-color: var(--sklearn-color-fitted-level-2);\n",
       "}\n",
       "\n",
       "/* Estimator-specific style */\n",
       "\n",
       "/* Colorize estimator box */\n",
       "#sk-container-id-3 div.sk-estimator input.sk-toggleable__control:checked~label.sk-toggleable__label {\n",
       "  /* unfitted */\n",
       "  background-color: var(--sklearn-color-unfitted-level-2);\n",
       "}\n",
       "\n",
       "#sk-container-id-3 div.sk-estimator.fitted input.sk-toggleable__control:checked~label.sk-toggleable__label {\n",
       "  /* fitted */\n",
       "  background-color: var(--sklearn-color-fitted-level-2);\n",
       "}\n",
       "\n",
       "#sk-container-id-3 div.sk-label label.sk-toggleable__label,\n",
       "#sk-container-id-3 div.sk-label label {\n",
       "  /* The background is the default theme color */\n",
       "  color: var(--sklearn-color-text-on-default-background);\n",
       "}\n",
       "\n",
       "/* On hover, darken the color of the background */\n",
       "#sk-container-id-3 div.sk-label:hover label.sk-toggleable__label {\n",
       "  color: var(--sklearn-color-text);\n",
       "  background-color: var(--sklearn-color-unfitted-level-2);\n",
       "}\n",
       "\n",
       "/* Label box, darken color on hover, fitted */\n",
       "#sk-container-id-3 div.sk-label.fitted:hover label.sk-toggleable__label.fitted {\n",
       "  color: var(--sklearn-color-text);\n",
       "  background-color: var(--sklearn-color-fitted-level-2);\n",
       "}\n",
       "\n",
       "/* Estimator label */\n",
       "\n",
       "#sk-container-id-3 div.sk-label label {\n",
       "  font-family: monospace;\n",
       "  font-weight: bold;\n",
       "  display: inline-block;\n",
       "  line-height: 1.2em;\n",
       "}\n",
       "\n",
       "#sk-container-id-3 div.sk-label-container {\n",
       "  text-align: center;\n",
       "}\n",
       "\n",
       "/* Estimator-specific */\n",
       "#sk-container-id-3 div.sk-estimator {\n",
       "  font-family: monospace;\n",
       "  border: 1px dotted var(--sklearn-color-border-box);\n",
       "  border-radius: 0.25em;\n",
       "  box-sizing: border-box;\n",
       "  margin-bottom: 0.5em;\n",
       "  /* unfitted */\n",
       "  background-color: var(--sklearn-color-unfitted-level-0);\n",
       "}\n",
       "\n",
       "#sk-container-id-3 div.sk-estimator.fitted {\n",
       "  /* fitted */\n",
       "  background-color: var(--sklearn-color-fitted-level-0);\n",
       "}\n",
       "\n",
       "/* on hover */\n",
       "#sk-container-id-3 div.sk-estimator:hover {\n",
       "  /* unfitted */\n",
       "  background-color: var(--sklearn-color-unfitted-level-2);\n",
       "}\n",
       "\n",
       "#sk-container-id-3 div.sk-estimator.fitted:hover {\n",
       "  /* fitted */\n",
       "  background-color: var(--sklearn-color-fitted-level-2);\n",
       "}\n",
       "\n",
       "/* Specification for estimator info (e.g. \"i\" and \"?\") */\n",
       "\n",
       "/* Common style for \"i\" and \"?\" */\n",
       "\n",
       ".sk-estimator-doc-link,\n",
       "a:link.sk-estimator-doc-link,\n",
       "a:visited.sk-estimator-doc-link {\n",
       "  float: right;\n",
       "  font-size: smaller;\n",
       "  line-height: 1em;\n",
       "  font-family: monospace;\n",
       "  background-color: var(--sklearn-color-background);\n",
       "  border-radius: 1em;\n",
       "  height: 1em;\n",
       "  width: 1em;\n",
       "  text-decoration: none !important;\n",
       "  margin-left: 1ex;\n",
       "  /* unfitted */\n",
       "  border: var(--sklearn-color-unfitted-level-1) 1pt solid;\n",
       "  color: var(--sklearn-color-unfitted-level-1);\n",
       "}\n",
       "\n",
       ".sk-estimator-doc-link.fitted,\n",
       "a:link.sk-estimator-doc-link.fitted,\n",
       "a:visited.sk-estimator-doc-link.fitted {\n",
       "  /* fitted */\n",
       "  border: var(--sklearn-color-fitted-level-1) 1pt solid;\n",
       "  color: var(--sklearn-color-fitted-level-1);\n",
       "}\n",
       "\n",
       "/* On hover */\n",
       "div.sk-estimator:hover .sk-estimator-doc-link:hover,\n",
       ".sk-estimator-doc-link:hover,\n",
       "div.sk-label-container:hover .sk-estimator-doc-link:hover,\n",
       ".sk-estimator-doc-link:hover {\n",
       "  /* unfitted */\n",
       "  background-color: var(--sklearn-color-unfitted-level-3);\n",
       "  color: var(--sklearn-color-background);\n",
       "  text-decoration: none;\n",
       "}\n",
       "\n",
       "div.sk-estimator.fitted:hover .sk-estimator-doc-link.fitted:hover,\n",
       ".sk-estimator-doc-link.fitted:hover,\n",
       "div.sk-label-container:hover .sk-estimator-doc-link.fitted:hover,\n",
       ".sk-estimator-doc-link.fitted:hover {\n",
       "  /* fitted */\n",
       "  background-color: var(--sklearn-color-fitted-level-3);\n",
       "  color: var(--sklearn-color-background);\n",
       "  text-decoration: none;\n",
       "}\n",
       "\n",
       "/* Span, style for the box shown on hovering the info icon */\n",
       ".sk-estimator-doc-link span {\n",
       "  display: none;\n",
       "  z-index: 9999;\n",
       "  position: relative;\n",
       "  font-weight: normal;\n",
       "  right: .2ex;\n",
       "  padding: .5ex;\n",
       "  margin: .5ex;\n",
       "  width: min-content;\n",
       "  min-width: 20ex;\n",
       "  max-width: 50ex;\n",
       "  color: var(--sklearn-color-text);\n",
       "  box-shadow: 2pt 2pt 4pt #999;\n",
       "  /* unfitted */\n",
       "  background: var(--sklearn-color-unfitted-level-0);\n",
       "  border: .5pt solid var(--sklearn-color-unfitted-level-3);\n",
       "}\n",
       "\n",
       ".sk-estimator-doc-link.fitted span {\n",
       "  /* fitted */\n",
       "  background: var(--sklearn-color-fitted-level-0);\n",
       "  border: var(--sklearn-color-fitted-level-3);\n",
       "}\n",
       "\n",
       ".sk-estimator-doc-link:hover span {\n",
       "  display: block;\n",
       "}\n",
       "\n",
       "/* \"?\"-specific style due to the `<a>` HTML tag */\n",
       "\n",
       "#sk-container-id-3 a.estimator_doc_link {\n",
       "  float: right;\n",
       "  font-size: 1rem;\n",
       "  line-height: 1em;\n",
       "  font-family: monospace;\n",
       "  background-color: var(--sklearn-color-background);\n",
       "  border-radius: 1rem;\n",
       "  height: 1rem;\n",
       "  width: 1rem;\n",
       "  text-decoration: none;\n",
       "  /* unfitted */\n",
       "  color: var(--sklearn-color-unfitted-level-1);\n",
       "  border: var(--sklearn-color-unfitted-level-1) 1pt solid;\n",
       "}\n",
       "\n",
       "#sk-container-id-3 a.estimator_doc_link.fitted {\n",
       "  /* fitted */\n",
       "  border: var(--sklearn-color-fitted-level-1) 1pt solid;\n",
       "  color: var(--sklearn-color-fitted-level-1);\n",
       "}\n",
       "\n",
       "/* On hover */\n",
       "#sk-container-id-3 a.estimator_doc_link:hover {\n",
       "  /* unfitted */\n",
       "  background-color: var(--sklearn-color-unfitted-level-3);\n",
       "  color: var(--sklearn-color-background);\n",
       "  text-decoration: none;\n",
       "}\n",
       "\n",
       "#sk-container-id-3 a.estimator_doc_link.fitted:hover {\n",
       "  /* fitted */\n",
       "  background-color: var(--sklearn-color-fitted-level-3);\n",
       "}\n",
       "</style><div id=\"sk-container-id-3\" class=\"sk-top-container\"><div class=\"sk-text-repr-fallback\"><pre>XGBRegressor(base_score=None, booster=None, callbacks=None,\n",
       "             colsample_bylevel=None, colsample_bynode=None,\n",
       "             colsample_bytree=None, device=None, early_stopping_rounds=None,\n",
       "             enable_categorical=False, eval_metric=None, feature_types=None,\n",
       "             gamma=None, grow_policy=None, importance_type=None,\n",
       "             interaction_constraints=None, learning_rate=None, max_bin=None,\n",
       "             max_cat_threshold=None, max_cat_to_onehot=None,\n",
       "             max_delta_step=None, max_depth=None, max_leaves=None,\n",
       "             min_child_weight=None, missing=nan, monotone_constraints=None,\n",
       "             multi_strategy=None, n_estimators=None, n_jobs=None,\n",
       "             num_parallel_tree=None, random_state=None, ...)</pre><b>In a Jupyter environment, please rerun this cell to show the HTML representation or trust the notebook. <br />On GitHub, the HTML representation is unable to render, please try loading this page with nbviewer.org.</b></div><div class=\"sk-container\" hidden><div class=\"sk-item\"><div class=\"sk-estimator fitted sk-toggleable\"><input class=\"sk-toggleable__control sk-hidden--visually\" id=\"sk-estimator-id-3\" type=\"checkbox\" checked><label for=\"sk-estimator-id-3\" class=\"sk-toggleable__label fitted sk-toggleable__label-arrow fitted\">&nbsp;XGBRegressor<span class=\"sk-estimator-doc-link fitted\">i<span>Fitted</span></span></label><div class=\"sk-toggleable__content fitted\"><pre>XGBRegressor(base_score=None, booster=None, callbacks=None,\n",
       "             colsample_bylevel=None, colsample_bynode=None,\n",
       "             colsample_bytree=None, device=None, early_stopping_rounds=None,\n",
       "             enable_categorical=False, eval_metric=None, feature_types=None,\n",
       "             gamma=None, grow_policy=None, importance_type=None,\n",
       "             interaction_constraints=None, learning_rate=None, max_bin=None,\n",
       "             max_cat_threshold=None, max_cat_to_onehot=None,\n",
       "             max_delta_step=None, max_depth=None, max_leaves=None,\n",
       "             min_child_weight=None, missing=nan, monotone_constraints=None,\n",
       "             multi_strategy=None, n_estimators=None, n_jobs=None,\n",
       "             num_parallel_tree=None, random_state=None, ...)</pre></div> </div></div></div></div>"
      ],
      "text/plain": [
       "XGBRegressor(base_score=None, booster=None, callbacks=None,\n",
       "             colsample_bylevel=None, colsample_bynode=None,\n",
       "             colsample_bytree=None, device=None, early_stopping_rounds=None,\n",
       "             enable_categorical=False, eval_metric=None, feature_types=None,\n",
       "             gamma=None, grow_policy=None, importance_type=None,\n",
       "             interaction_constraints=None, learning_rate=None, max_bin=None,\n",
       "             max_cat_threshold=None, max_cat_to_onehot=None,\n",
       "             max_delta_step=None, max_depth=None, max_leaves=None,\n",
       "             min_child_weight=None, missing=nan, monotone_constraints=None,\n",
       "             multi_strategy=None, n_estimators=None, n_jobs=None,\n",
       "             num_parallel_tree=None, random_state=None, ...)"
      ]
     },
     "execution_count": 110,
     "metadata": {},
     "output_type": "execute_result"
    }
   ],
   "source": [
    "xg.fit(X_train,y_train)"
   ]
  },
  {
   "cell_type": "code",
   "execution_count": 111,
   "id": "c53d6bf6-971b-4ea2-8b7c-653b5d850e6e",
   "metadata": {
    "tags": []
   },
   "outputs": [],
   "source": [
    "pred_xg = xg.predict(X_test)"
   ]
  },
  {
   "cell_type": "code",
   "execution_count": 112,
   "id": "ba7b7b62-1b50-465b-bfa9-c711b4fa85eb",
   "metadata": {
    "tags": []
   },
   "outputs": [
    {
     "name": "stdout",
     "output_type": "stream",
     "text": [
      "MAE: 0.3985619541963728\n",
      "MSE: 0.2979775188115224\n",
      "RMSE: 0.5458731709944376\n",
      "R2: 0.7484848373459029\n"
     ]
    }
   ],
   "source": [
    "print('MAE:', metrics.mean_absolute_error(y_test, pred_xg))\n",
    "print('MSE:', metrics.mean_squared_error(y_test, pred_xg))\n",
    "print('RMSE:', np.sqrt(metrics.mean_squared_error(y_test, pred_xg)))\n",
    "print('R2:', metrics.r2_score(y_test, pred_xg))"
   ]
  },
  {
   "cell_type": "markdown",
   "id": "be5fe285-6d08-4c6e-8e5a-d5a91e87beef",
   "metadata": {},
   "source": [
    "## Test the test data"
   ]
  },
  {
   "cell_type": "markdown",
   "id": "8621f2b2-1b2d-485e-9786-3d48a430b5c8",
   "metadata": {
    "tags": []
   },
   "source": [
    "Random Forest Regressor has smaller MSE (mean squared error), so we use it"
   ]
  },
  {
   "cell_type": "code",
   "execution_count": 115,
   "id": "f8efa2c3-0150-437f-abe4-2a1d721ea7d9",
   "metadata": {
    "tags": []
   },
   "outputs": [],
   "source": [
    "test_data = test.drop('date', axis=1)"
   ]
  },
  {
   "cell_type": "code",
   "execution_count": 116,
   "id": "feadab5e-ee84-47dc-8b1c-6457311e7290",
   "metadata": {
    "tags": []
   },
   "outputs": [],
   "source": [
    "pred_test_rfr = rfr.predict(test_data)"
   ]
  },
  {
   "cell_type": "code",
   "execution_count": 117,
   "id": "2941e64a-e700-4768-b7b5-d70f3a12ab46",
   "metadata": {
    "tags": []
   },
   "outputs": [],
   "source": [
    "submission = pd.DataFrame({'date':test['date'],'silicon_concentrate_rfr':pred_test_rfr})"
   ]
  },
  {
   "cell_type": "code",
   "execution_count": 118,
   "id": "59972b04-b2c7-4f22-9ddf-78029819e150",
   "metadata": {
    "tags": []
   },
   "outputs": [],
   "source": [
    "submission.to_csv('submission.csv', index=False)"
   ]
  }
 ],
 "metadata": {
  "kernelspec": {
   "display_name": "Python 3 (ipykernel)",
   "language": "python",
   "name": "python3"
  },
  "language_info": {
   "codemirror_mode": {
    "name": "ipython",
    "version": 3
   },
   "file_extension": ".py",
   "mimetype": "text/x-python",
   "name": "python",
   "nbconvert_exporter": "python",
   "pygments_lexer": "ipython3",
   "version": "3.11.5"
  }
 },
 "nbformat": 4,
 "nbformat_minor": 5
}
